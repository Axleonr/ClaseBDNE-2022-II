{
 "cells": [
  {
   "cell_type": "code",
   "execution_count": 1,
   "metadata": {},
   "outputs": [],
   "source": [
    "#!pip install pymongo"
   ]
  },
  {
   "cell_type": "code",
   "execution_count": 5,
   "metadata": {},
   "outputs": [],
   "source": [
    "import pymongo\n",
    "import pandas as pd\n",
    "from datetime import datetime, timedelta\n",
    "import networkx as nx\n",
    "import numpy as np"
   ]
  },
  {
   "cell_type": "code",
   "execution_count": 6,
   "metadata": {},
   "outputs": [],
   "source": [
    "client=pymongo.MongoClient('mongodb://127.0.0.1:27017/')\n",
    "mydb = client['Practica3']\n",
    "table2 = mydb[\"tabla_estaciones\"]\n",
    "table = mydb[\"tabla_rutas\"]"
   ]
  },
  {
   "cell_type": "markdown",
   "metadata": {},
   "source": [
    "# Limpieza e inserción de datos."
   ]
  },
  {
   "cell_type": "code",
   "execution_count": 3,
   "metadata": {},
   "outputs": [],
   "source": [
    "path = '/home/axleon/Documents/CDD/6°_Sem/BDNE/BDNE_Tareas/Proyecto_Mongo/data/'\n",
    "names = ['2013-07.csv', '2013-08.csv', '2013-09.csv', '2013-10.csv', '2013-11.csv', '2013-12.csv', '2014-01.csv', '2014-02.csv']\n",
    "all_data = []\n",
    "for file in names:\n",
    "    all_data.append(pd.read_csv(path + file)[['tripduration', 'starttime', 'stoptime', 'start station id','start station name', 'start station latitude', 'start station longitude', 'end station id', 'end station name', 'end station latitude', 'end station longitude']])"
   ]
  },
  {
   "cell_type": "code",
   "execution_count": 4,
   "metadata": {},
   "outputs": [],
   "source": [
    "for df in all_data:\n",
    "    df['starttime'] = pd.to_datetime(df['starttime'], format='%Y-%m-%d')"
   ]
  },
  {
   "cell_type": "markdown",
   "metadata": {},
   "source": [
    "### Tabla estaciones"
   ]
  },
  {
   "cell_type": "code",
   "execution_count": null,
   "metadata": {},
   "outputs": [],
   "source": [
    "information = mydb.tabla_estaciones"
   ]
  },
  {
   "cell_type": "code",
   "execution_count": 5,
   "metadata": {},
   "outputs": [
    {
     "data": {
      "text/html": [
       "<div>\n",
       "<style scoped>\n",
       "    .dataframe tbody tr th:only-of-type {\n",
       "        vertical-align: middle;\n",
       "    }\n",
       "\n",
       "    .dataframe tbody tr th {\n",
       "        vertical-align: top;\n",
       "    }\n",
       "\n",
       "    .dataframe thead th {\n",
       "        text-align: right;\n",
       "    }\n",
       "</style>\n",
       "<table border=\"1\" class=\"dataframe\">\n",
       "  <thead>\n",
       "    <tr style=\"text-align: right;\">\n",
       "      <th></th>\n",
       "      <th>start station name</th>\n",
       "      <th>start station latitude</th>\n",
       "      <th>start station longitude</th>\n",
       "    </tr>\n",
       "  </thead>\n",
       "  <tbody>\n",
       "    <tr>\n",
       "      <th>0</th>\n",
       "      <td>E 47 St &amp; 2 Ave</td>\n",
       "      <td>40.753231</td>\n",
       "      <td>-73.970325</td>\n",
       "    </tr>\n",
       "    <tr>\n",
       "      <th>1</th>\n",
       "      <td>W 26 St &amp; 10 Ave</td>\n",
       "      <td>40.749718</td>\n",
       "      <td>-74.002950</td>\n",
       "    </tr>\n",
       "    <tr>\n",
       "      <th>2</th>\n",
       "      <td>Lafayette St &amp; E 8 St</td>\n",
       "      <td>40.730287</td>\n",
       "      <td>-73.990765</td>\n",
       "    </tr>\n",
       "    <tr>\n",
       "      <th>3</th>\n",
       "      <td>Forsyth St &amp; Broome St</td>\n",
       "      <td>40.718939</td>\n",
       "      <td>-73.992663</td>\n",
       "    </tr>\n",
       "    <tr>\n",
       "      <th>4</th>\n",
       "      <td>University Pl &amp; E 14 St</td>\n",
       "      <td>40.734927</td>\n",
       "      <td>-73.992005</td>\n",
       "    </tr>\n",
       "    <tr>\n",
       "      <th>...</th>\n",
       "      <td>...</td>\n",
       "      <td>...</td>\n",
       "      <td>...</td>\n",
       "    </tr>\n",
       "    <tr>\n",
       "      <th>325</th>\n",
       "      <td>Franklin Ave &amp; Myrtle Ave</td>\n",
       "      <td>40.694528</td>\n",
       "      <td>-73.958089</td>\n",
       "    </tr>\n",
       "    <tr>\n",
       "      <th>326</th>\n",
       "      <td>Park Ave &amp; St Edwards St</td>\n",
       "      <td>40.696089</td>\n",
       "      <td>-73.978034</td>\n",
       "    </tr>\n",
       "    <tr>\n",
       "      <th>327</th>\n",
       "      <td>E 43 St &amp; 2 Ave</td>\n",
       "      <td>40.750224</td>\n",
       "      <td>-73.971214</td>\n",
       "    </tr>\n",
       "    <tr>\n",
       "      <th>328</th>\n",
       "      <td>Grand St &amp; Greene St</td>\n",
       "      <td>40.721655</td>\n",
       "      <td>-74.002347</td>\n",
       "    </tr>\n",
       "    <tr>\n",
       "      <th>329</th>\n",
       "      <td>Henry St &amp; Grand St</td>\n",
       "      <td>40.714215</td>\n",
       "      <td>-73.981346</td>\n",
       "    </tr>\n",
       "  </tbody>\n",
       "</table>\n",
       "<p>330 rows × 3 columns</p>\n",
       "</div>"
      ],
      "text/plain": [
       "            start station name  start station latitude  \\\n",
       "0              E 47 St & 2 Ave               40.753231   \n",
       "1             W 26 St & 10 Ave               40.749718   \n",
       "2        Lafayette St & E 8 St               40.730287   \n",
       "3       Forsyth St & Broome St               40.718939   \n",
       "4      University Pl & E 14 St               40.734927   \n",
       "..                         ...                     ...   \n",
       "325  Franklin Ave & Myrtle Ave               40.694528   \n",
       "326   Park Ave & St Edwards St               40.696089   \n",
       "327            E 43 St & 2 Ave               40.750224   \n",
       "328       Grand St & Greene St               40.721655   \n",
       "329        Henry St & Grand St               40.714215   \n",
       "\n",
       "     start station longitude  \n",
       "0                 -73.970325  \n",
       "1                 -74.002950  \n",
       "2                 -73.990765  \n",
       "3                 -73.992663  \n",
       "4                 -73.992005  \n",
       "..                       ...  \n",
       "325               -73.958089  \n",
       "326               -73.978034  \n",
       "327               -73.971214  \n",
       "328               -74.002347  \n",
       "329               -73.981346  \n",
       "\n",
       "[330 rows x 3 columns]"
      ]
     },
     "execution_count": 5,
     "metadata": {},
     "output_type": "execute_result"
    }
   ],
   "source": [
    "locali = pd.DataFrame()\n",
    "for df in all_data:\n",
    "    loc = df[['start station name','start station latitude','start station longitude']].drop_duplicates().reset_index(drop=True)\n",
    "    locali = pd.concat([locali, loc]).drop_duplicates()\n",
    "\n",
    "locali"
   ]
  },
  {
   "cell_type": "code",
   "execution_count": 7,
   "metadata": {},
   "outputs": [],
   "source": [
    "result1 = locali.to_dict(orient=\"records\")\n",
    "information.insert_many(result1)\n",
    "result1 = None\n",
    "locali = None"
   ]
  },
  {
   "cell_type": "markdown",
   "metadata": {},
   "source": [
    "### Tabla rutas"
   ]
  },
  {
   "cell_type": "code",
   "execution_count": 8,
   "metadata": {},
   "outputs": [],
   "source": [
    "information = mydb.tabla_rutas"
   ]
  },
  {
   "cell_type": "code",
   "execution_count": 9,
   "metadata": {},
   "outputs": [],
   "source": [
    "results = []\n",
    "for idx, df in enumerate(all_data):\n",
    "    result = df.to_dict(orient=\"records\")\n",
    "    information.insert_many(result)\n",
    "    df = None\n",
    "    all_data[idx] = None\n",
    "    result = None"
   ]
  },
  {
   "cell_type": "markdown",
   "metadata": {},
   "source": [
    "# Actividad 1"
   ]
  },
  {
   "cell_type": "markdown",
   "metadata": {},
   "source": [
    "La actividad correspondiente al sistema de clientes está en formato .py, ya que involucra una interfaz de usuario. \n",
    "Se puede encontrar en el siguiente enlace.\n",
    "\n",
    "[https://github.com/Axleonr/ClaseBDNE-2022-II/blob/main/P3-Mongo/defs.py](https://github.com/Axleonr/ClaseBDNE-2022-II/blob/main/P3-Mongo/defs.py)"
   ]
  },
  {
   "cell_type": "markdown",
   "metadata": {},
   "source": [
    "# Actividad 2"
   ]
  },
  {
   "cell_type": "code",
   "execution_count": 7,
   "metadata": {},
   "outputs": [
    {
     "name": "stdout",
     "output_type": "stream",
     "text": [
      "Las 3 estaciones  más cercanas de tu ubicación son: [('1 Ave & E 15 St', 0.023386479658509103), ('1 Ave & E 18 St', 0.024616963809785602), ('1 Ave & E 30 St', 0.030092739403709417)]\n"
     ]
    }
   ],
   "source": [
    "from heapq import nsmallest\n",
    "def estcerc(iniciolon,iniciolat):\n",
    "    x1=float(iniciolat)\n",
    "    y1=float(iniciolon)\n",
    "    b=np.array((y1,x1))\n",
    "    disttot=[]\n",
    "\n",
    "    consulta = []\n",
    "    for j in table2.find():\n",
    "        consulta.append(j)\n",
    "\n",
    "    locali2 = pd.DataFrame.from_dict(consulta)\n",
    "\n",
    "    for i in range(len(locali2['start station longitude'])):\n",
    "        np.array((locali2['start station latitude'][i],locali2['start station longitude'][i]))\n",
    "        dist=np.linalg.norm(np.array((locali2['start station latitude'][i],locali2['start station longitude'][i]))-b)\n",
    "        disttot.append(dist)\n",
    "    dic={locali2['start station name'][i]:disttot[i] for i in range(len(locali2['start station longitude']))}\n",
    "    lista=dic.items()\n",
    "    vad=nsmallest(3, lista)\n",
    "\n",
    "    print('Las 3 estaciones  más cercanas de tu ubicación son:',vad)\n",
    "\n",
    "estcerc(40.73535398,-74.00483091)"
   ]
  },
  {
   "cell_type": "markdown",
   "metadata": {},
   "source": [
    "# Actividad 3,4 y Extras"
   ]
  },
  {
   "cell_type": "code",
   "execution_count": 8,
   "metadata": {},
   "outputs": [],
   "source": [
    "def viaje(tiempo_inicio, lugar_inicio, tiempo_de_viaje,redondo):\n",
    "    \"\"\"\n",
    "    tiempo_inicio: String que indica el dia y hora en el que se planea hacer el viaje\n",
    "    usuario_id: String id del usuario en la base de datos\n",
    "    lugar_inicio: String nombre que pusiste a tu lugar de salida\n",
    "    tiempo_de_viaje: Int El tiempo aproximado que quieres que dure tu viaje en segundos\n",
    "    Redondo: Booleano True si el viaje lo quieres redondo y False si no es redondo\n",
    "    \"\"\"\n",
    "\n",
    "    tiempo2 = tiempo_inicio + timedelta(minutes=30)\n",
    "\n",
    "    consulta = []\n",
    "    for j in table.find({'tripduration':{'$lt':tiempo_de_viaje},\n",
    "                        'starttime':{'$gt':tiempo_inicio,\n",
    "                        '$lt':tiempo2},\n",
    "                        'start station name':lugar_inicio}):\n",
    "        consulta.append(j)\n",
    "\n",
    "\n",
    "    df2 = pd.DataFrame.from_dict(consulta)\n",
    "\n",
    "    df2 = df2.groupby([\"start station id\",\"start station name\",\"end station id\",\"end station name\"])[\"tripduration\"].mean().round()\n",
    "    df2 = pd.DataFrame(df2).rename(columns={\"tripduration\":\"Tiempo Estimado\"}).reset_index()\n",
    "\n",
    "    if not redondo:\n",
    "        df2 = df2.loc[(df2[\"Tiempo Estimado\"] <= tiempo_de_viaje)]\n",
    "    else:\n",
    "        df2 = df2.loc[(df2[\"Tiempo Estimado\"] <= (tiempo_de_viaje/2))]\n",
    "        df2[\"Tiempo Estimado\"] = 2*df2[\"Tiempo Estimado\"]\n",
    "\n",
    "    return df2[[\"start station name\",\"end station name\",\"Tiempo Estimado\"]]"
   ]
  },
  {
   "cell_type": "code",
   "execution_count": 19,
   "metadata": {},
   "outputs": [],
   "source": [
    "tiempo_inicio = datetime(year=2014, month=2,day=20,hour=12,minute=58,second=17)\n",
    "tiempo2 = tiempo_inicio + timedelta(minutes=30)\n",
    "tiempo_de_viaje = 500\n",
    "lugar_inicio = 'W 17 St & 8 Ave'"
   ]
  },
  {
   "cell_type": "code",
   "execution_count": 20,
   "metadata": {},
   "outputs": [
    {
     "data": {
      "text/html": [
       "<div>\n",
       "<style scoped>\n",
       "    .dataframe tbody tr th:only-of-type {\n",
       "        vertical-align: middle;\n",
       "    }\n",
       "\n",
       "    .dataframe tbody tr th {\n",
       "        vertical-align: top;\n",
       "    }\n",
       "\n",
       "    .dataframe thead th {\n",
       "        text-align: right;\n",
       "    }\n",
       "</style>\n",
       "<table border=\"1\" class=\"dataframe\">\n",
       "  <thead>\n",
       "    <tr style=\"text-align: right;\">\n",
       "      <th></th>\n",
       "      <th>start station name</th>\n",
       "      <th>end station name</th>\n",
       "      <th>Tiempo Estimado</th>\n",
       "    </tr>\n",
       "  </thead>\n",
       "  <tbody>\n",
       "    <tr>\n",
       "      <th>0</th>\n",
       "      <td>W 17 St &amp; 8 Ave</td>\n",
       "      <td>W 22 St &amp; 8 Ave</td>\n",
       "      <td>234.0</td>\n",
       "    </tr>\n",
       "    <tr>\n",
       "      <th>2</th>\n",
       "      <td>W 17 St &amp; 8 Ave</td>\n",
       "      <td>9 Ave &amp; W 22 St</td>\n",
       "      <td>406.0</td>\n",
       "    </tr>\n",
       "  </tbody>\n",
       "</table>\n",
       "</div>"
      ],
      "text/plain": [
       "  start station name end station name  Tiempo Estimado\n",
       "0    W 17 St & 8 Ave  W 22 St & 8 Ave            234.0\n",
       "2    W 17 St & 8 Ave  9 Ave & W 22 St            406.0"
      ]
     },
     "execution_count": 20,
     "metadata": {},
     "output_type": "execute_result"
    }
   ],
   "source": [
    "viaje(tiempo_inicio,lugar_inicio,tiempo_de_viaje,True)"
   ]
  },
  {
   "cell_type": "code",
   "execution_count": 21,
   "metadata": {},
   "outputs": [
    {
     "data": {
      "text/html": [
       "<div>\n",
       "<style scoped>\n",
       "    .dataframe tbody tr th:only-of-type {\n",
       "        vertical-align: middle;\n",
       "    }\n",
       "\n",
       "    .dataframe tbody tr th {\n",
       "        vertical-align: top;\n",
       "    }\n",
       "\n",
       "    .dataframe thead th {\n",
       "        text-align: right;\n",
       "    }\n",
       "</style>\n",
       "<table border=\"1\" class=\"dataframe\">\n",
       "  <thead>\n",
       "    <tr style=\"text-align: right;\">\n",
       "      <th></th>\n",
       "      <th>start station name</th>\n",
       "      <th>end station name</th>\n",
       "      <th>Tiempo Estimado</th>\n",
       "    </tr>\n",
       "  </thead>\n",
       "  <tbody>\n",
       "    <tr>\n",
       "      <th>0</th>\n",
       "      <td>W 17 St &amp; 8 Ave</td>\n",
       "      <td>W 22 St &amp; 8 Ave</td>\n",
       "      <td>117.0</td>\n",
       "    </tr>\n",
       "    <tr>\n",
       "      <th>1</th>\n",
       "      <td>W 17 St &amp; 8 Ave</td>\n",
       "      <td>W 20 St &amp; 11 Ave</td>\n",
       "      <td>347.0</td>\n",
       "    </tr>\n",
       "    <tr>\n",
       "      <th>2</th>\n",
       "      <td>W 17 St &amp; 8 Ave</td>\n",
       "      <td>9 Ave &amp; W 22 St</td>\n",
       "      <td>203.0</td>\n",
       "    </tr>\n",
       "    <tr>\n",
       "      <th>3</th>\n",
       "      <td>W 17 St &amp; 8 Ave</td>\n",
       "      <td>8 Ave &amp; W 31 St</td>\n",
       "      <td>330.0</td>\n",
       "    </tr>\n",
       "  </tbody>\n",
       "</table>\n",
       "</div>"
      ],
      "text/plain": [
       "  start station name  end station name  Tiempo Estimado\n",
       "0    W 17 St & 8 Ave   W 22 St & 8 Ave            117.0\n",
       "1    W 17 St & 8 Ave  W 20 St & 11 Ave            347.0\n",
       "2    W 17 St & 8 Ave   9 Ave & W 22 St            203.0\n",
       "3    W 17 St & 8 Ave   8 Ave & W 31 St            330.0"
      ]
     },
     "execution_count": 21,
     "metadata": {},
     "output_type": "execute_result"
    }
   ],
   "source": [
    "viaje(tiempo_inicio,lugar_inicio,tiempo_de_viaje,False)"
   ]
  },
  {
   "cell_type": "code",
   "execution_count": 12,
   "metadata": {},
   "outputs": [],
   "source": [
    "def ruta_especifica(tiempo_inicio,lugar_inicio,lugar_final):\n",
    "    tiempo2 = tiempo_inicio + timedelta(minutes=30)\n",
    "\n",
    "    consulta = []\n",
    "    for j in table.find({'starttime':{'$gt':tiempo_inicio,\n",
    "                        '$lt':tiempo2}}):\n",
    "        consulta.append(j)\n",
    "    df2 = pd.DataFrame.from_dict(consulta)\n",
    "    df2 = df2.groupby([\"start station id\",\"start station name\",\"end station id\",\"end station name\"])[\"tripduration\"].mean().round()\n",
    "    df2 = pd.DataFrame(df2).rename(columns={\"tripduration\":\"Tiempo Estimado\"}).reset_index()\n",
    "\n",
    "    G = nx.Graph()\n",
    "    for j in range(len(df2)):\n",
    "        G.add_edge(df2.iloc[j,1],\n",
    "                df2.iloc[j,3],\n",
    "                tiempo_espera = df2.iloc[j,4])\n",
    "\n",
    "    p = nx.shortest_path(G, source=lugar_inicio,target=lugar_final, weight='tiempo_espera')\n",
    "    tiempo_espera = 0\n",
    "    for j in range(len(p)-1):\n",
    "\n",
    "        t = df2.loc[((df2['start station name'] == p[j]) & (df2['end station name'] == p[j+1]))].values\n",
    "        if len(t) == 0:\n",
    "            t = df2.loc[((df2['start station name'] == p[j+1]) & (df2['end station name'] == p[j]))].values        \n",
    "        tiempo_espera += t[0][-1]\n",
    "    print(\"tu ruta es la siguiente; \",p)\n",
    "    print(\"El tiempo de espera estimado es de: \",tiempo_espera)\n",
    "        "
   ]
  },
  {
   "cell_type": "code",
   "execution_count": 13,
   "metadata": {},
   "outputs": [],
   "source": [
    "tiempo_inicio = datetime(year=2014,month=2,day=20,hour=12,minute=0,second=0)\n",
    "tiempo2 = tiempo_inicio + timedelta(minutes=30)\n",
    "lugar_inicio = 'Cliff St & Fulton St'\n",
    "lugar_final = 'Lexington Ave & E 24 St'"
   ]
  },
  {
   "cell_type": "code",
   "execution_count": 17,
   "metadata": {},
   "outputs": [
    {
     "name": "stdout",
     "output_type": "stream",
     "text": [
      "tu ruta es la siguiente;  ['Cliff St & Fulton St', 'Park Pl & Church St', 'Lafayette St & E 8 St', 'St Marks Pl & 1 Ave', 'Lexington Ave & E 24 St']\n",
      "El tiempo de espera estimado es de:  1512.0\n"
     ]
    }
   ],
   "source": [
    "ruta_especifica(tiempo_inicio,lugar_inicio,lugar_final)"
   ]
  }
 ],
 "metadata": {
  "interpreter": {
   "hash": "c5abe1dd6f168b4f5e67de02cffc00ce8cef82ade2b382edc6fecc892b15c5a1"
  },
  "kernelspec": {
   "display_name": "Python 3 (ipykernel)",
   "language": "python",
   "name": "python3"
  },
  "language_info": {
   "codemirror_mode": {
    "name": "ipython",
    "version": 3
   },
   "file_extension": ".py",
   "mimetype": "text/x-python",
   "name": "python",
   "nbconvert_exporter": "python",
   "pygments_lexer": "ipython3",
   "version": "3.9.11"
  }
 },
 "nbformat": 4,
 "nbformat_minor": 4
}

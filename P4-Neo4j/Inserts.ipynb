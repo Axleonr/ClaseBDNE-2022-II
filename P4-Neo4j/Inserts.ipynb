{
 "cells": [
  {
   "cell_type": "markdown",
   "id": "9790f3fd-0c20-41c1-9477-8d51142fd0c8",
   "metadata": {
    "tags": []
   },
   "source": [
    "# Práctica 4 - Neo4j\n",
    "## Inserciones"
   ]
  },
  {
   "cell_type": "code",
   "execution_count": 1,
   "id": "176f460a-4e7f-427b-8fec-910f103eb71d",
   "metadata": {},
   "outputs": [],
   "source": [
    "import pandas as pd\n",
    "from neo4j import GraphDatabase"
   ]
  },
  {
   "cell_type": "markdown",
   "id": "0b636031-179b-4298-8f9e-86ec261624c7",
   "metadata": {},
   "source": [
    "### Carga de datos"
   ]
  },
  {
   "cell_type": "markdown",
   "id": "036df429-3de0-40ca-a583-d33618dd03fb",
   "metadata": {},
   "source": [
    "Los la información relevante se extrajo y redujo en tablas separadas"
   ]
  },
  {
   "cell_type": "code",
   "execution_count": 2,
   "id": "492f884e-8fe3-40ae-901c-867f6110f169",
   "metadata": {},
   "outputs": [],
   "source": [
    "tablas_names = ['estados', 'productos', 'tiendas']\n",
    "tablas2_name = ['clientes']\n",
    "relaciones_n = ['localizada_en', 'vende_en', 'compra']"
   ]
  },
  {
   "cell_type": "code",
   "execution_count": 4,
   "id": "2e03081a-4c0c-42f5-b009-fec5c4188a4f",
   "metadata": {},
   "outputs": [],
   "source": [
    "tablas = []\n",
    "for idx, elem in enumerate(tablas_names):\n",
    "    elem = pd.read_csv(f'./data/{tablas_names[idx]}.csv', encoding='latin1')\n",
    "    tablas.append(elem)"
   ]
  },
  {
   "cell_type": "code",
   "execution_count": 5,
   "id": "6cd67f7c-4ad7-49f7-b794-16ab9e6db2fd",
   "metadata": {},
   "outputs": [],
   "source": [
    "tablas2 = []\n",
    "for idx, elem in enumerate(tablas2_name):\n",
    "    elem = pd.read_csv(f'./data/{tablas2_name[idx]}.csv', encoding='latin1')\n",
    "    tablas2.append(elem)"
   ]
  },
  {
   "cell_type": "code",
   "execution_count": 6,
   "id": "b65b61eb-79dd-45e0-83c0-2c2653d9727c",
   "metadata": {},
   "outputs": [],
   "source": [
    "relaciones = []\n",
    "for idx, elem in enumerate(relaciones_n):\n",
    "    elem = pd.read_csv(f'./data/{relaciones_n[idx]}.csv', encoding='latin1')\n",
    "    relaciones.append(elem)"
   ]
  },
  {
   "cell_type": "markdown",
   "id": "aecd1050-364a-448f-830c-8383c04d91db",
   "metadata": {},
   "source": [
    "### Nodos"
   ]
  },
  {
   "cell_type": "code",
   "execution_count": 7,
   "id": "c17da039-e12e-4bc6-b61b-c1d0839a68c4",
   "metadata": {},
   "outputs": [],
   "source": [
    "#Tablas con 1 columna\n",
    "for idx, df in enumerate(tablas2):\n",
    "    \n",
    "    nombre_tabla = tablas2_name[idx]\n",
    "    id_column = df.iloc[:,0]\n",
    "    execution_commands = []\n",
    "\n",
    "    for i in range(id_column.size):\n",
    "        neo4j_create_statement = f\"create ({nombre_tabla[0]}:{nombre_tabla} {{{id_column.name}:'{id_column.iloc[i]}'}})\"\n",
    "        execution_commands.append(neo4j_create_statement)\n",
    "\n",
    "\n",
    "    def execute_transactions(execution_commands):\n",
    "        data_base_connection = GraphDatabase.driver(uri = \"bolt://localhost:7687\", auth=(\"neo4j\", \"neo5j\"))\n",
    "        session = data_base_connection.session()    \n",
    "        for i in execution_commands:\n",
    "            session.run(i)\n",
    "            \n",
    "    execute_transactions(execution_commands)"
   ]
  },
  {
   "cell_type": "code",
   "execution_count": 8,
   "id": "91545e4b-cc5e-48bd-81cb-8c1fcca18f2a",
   "metadata": {},
   "outputs": [],
   "source": [
    "#Tablas de 2 columnas\n",
    "for idx, df in enumerate(tablas):\n",
    "\n",
    "    nombre_tabla = tablas_names[idx]\n",
    "    id_column = df.iloc[:,1]\n",
    "    data_column = df.iloc[:,0]\n",
    "    execution_commands = []\n",
    "\n",
    "    for i in range(id_column.size):\n",
    "        neo4j_create_statement = f\"create ({nombre_tabla[0]}:{nombre_tabla} {{{id_column.name}:'{id_column.iloc[i]}', {data_column.name}: '{data_column.iloc[i]}'}})\"\n",
    "        execution_commands.append(neo4j_create_statement)\n",
    "\n",
    "\n",
    "    def execute_transactions(execution_commands):\n",
    "        data_base_connection = GraphDatabase.driver(uri = \"bolt://localhost:7687\", auth=(\"neo4j\", \"neo5j\"))\n",
    "        session = data_base_connection.session()    \n",
    "        for i in execution_commands:\n",
    "            session.run(i)\n",
    "\n",
    "\n",
    "    execute_transactions(execution_commands)       "
   ]
  },
  {
   "cell_type": "markdown",
   "id": "cb5c9f93-fe4f-469e-b169-cb1048afc539",
   "metadata": {},
   "source": [
    "## Relaciones"
   ]
  },
  {
   "cell_type": "code",
   "execution_count": 9,
   "id": "ed617ee0-9791-4460-850d-ea19c88bca8a",
   "metadata": {},
   "outputs": [],
   "source": [
    "#Localizada en:\n",
    "\n",
    "idx = 0\n",
    "df = relaciones[idx]\n",
    "\n",
    "nombre_tabla = relaciones_n[idx]\n",
    "pid_column = df.iloc[:,1]\n",
    "sid_column = df.iloc[:,0]\n",
    "\n",
    "execution_commands = []\n",
    "for i in range(relaciones[0].shape[0]):\n",
    "    neo4j_create_statement = f\"match (t:tiendas {{{pid_column.name}: '{pid_column.iloc[i]}'}}) match (e:estados {{{sid_column.name}: '{sid_column.iloc[i]}'}}) create (t)-[lc:{nombre_tabla}]->(e)\"\n",
    "    execution_commands.append(neo4j_create_statement)\n",
    "\n",
    "def execute_transactions(execution_commands):\n",
    "    data_base_connection = GraphDatabase.driver(uri = \"bolt://localhost:7687\", auth=(\"neo4j\", \"neo5j\"))\n",
    "    session = data_base_connection.session()    \n",
    "    for i in execution_commands:\n",
    "        session.run(i)\n",
    "\n",
    "\n",
    "execute_transactions(execution_commands)  "
   ]
  },
  {
   "cell_type": "code",
   "execution_count": 10,
   "id": "936cb692-4a1c-411f-bb08-d42efb98be9c",
   "metadata": {
    "tags": []
   },
   "outputs": [],
   "source": [
    "#Vende en:\n",
    "idx = 1\n",
    "df = relaciones[idx]\n",
    "\n",
    "nombre_tabla = relaciones_n[idx]\n",
    "pid_column = df.iloc[:,1]\n",
    "sid_column = df.iloc[:,0]\n",
    "data_column = df.iloc[:,2]\n",
    "\n",
    "execution_commands = []\n",
    "for i in range(pid_column.size):\n",
    "    neo4j_create_statement = f\"match (t:tiendas {{{pid_column.name}: '{pid_column.iloc[i]}'}}) match (p:productos {{{sid_column.name}: '{sid_column.iloc[i]}'}}) create (p)-[ve:{nombre_tabla}]->(t) set ve.incumplimiento = '{data_column[i]}'\"\n",
    "    execution_commands.append(neo4j_create_statement)\n",
    "\n",
    "\n",
    "def execute_transactions(execution_commands):\n",
    "    data_base_connection = GraphDatabase.driver(uri = \"bolt://localhost:7687\", auth=(\"neo4j\", \"neo5j\"))\n",
    "    session = data_base_connection.session()    \n",
    "    for i in execution_commands:\n",
    "        session.run(i)\n",
    "\n",
    "execute_transactions(execution_commands)   "
   ]
  },
  {
   "cell_type": "code",
   "execution_count": 12,
   "id": "9c86f400-aaa8-41f7-bf27-2d5bb5f5258f",
   "metadata": {},
   "outputs": [],
   "source": [
    "#Compra:\n",
    "idx = 2\n",
    "df = relaciones[idx]\n",
    "\n",
    "nombre_tabla = relaciones_n[idx]\n",
    "col_clie = df.Id_Cliente\n",
    "col_prod = df.Id_Producto\n",
    "col_tien = df.Id_Tienda\n",
    "\n",
    "execution_commands = []\n",
    "for i in range(col_clie.size):\n",
    "    neo4j_create_statement = f\"match (c:clientes {{{col_clie.name}: '{col_clie.iloc[i]}'}}) match (p:productos {{{col_prod.name}: '{col_prod.iloc[i]}'}}) create (c)-[ve:{nombre_tabla}]->(p) set ve.en = '{col_tien[i]}'\"\n",
    "    execution_commands.append(neo4j_create_statement)\n",
    "\n",
    "\n",
    "def execute_transactions(execution_commands):\n",
    "    data_base_connection = GraphDatabase.driver(uri = \"bolt://localhost:7687\", auth=(\"neo4j\", \"neo5j\"))\n",
    "    session = data_base_connection.session()    \n",
    "    for i in execution_commands:\n",
    "        session.run(i)\n",
    "\n",
    "execute_transactions(execution_commands)"
   ]
  }
 ],
 "metadata": {
  "kernelspec": {
   "display_name": "Python 3 (ipykernel)",
   "language": "python",
   "name": "python3"
  },
  "language_info": {
   "codemirror_mode": {
    "name": "ipython",
    "version": 3
   },
   "file_extension": ".py",
   "mimetype": "text/x-python",
   "name": "python",
   "nbconvert_exporter": "python",
   "pygments_lexer": "ipython3",
   "version": "3.9.11"
  }
 },
 "nbformat": 4,
 "nbformat_minor": 5
}

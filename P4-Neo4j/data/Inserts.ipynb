{
 "cells": [
  {
   "cell_type": "code",
   "execution_count": 1,
   "id": "176f460a-4e7f-427b-8fec-910f103eb71d",
   "metadata": {},
   "outputs": [],
   "source": [
    "import pandas as pd\n",
    "from neo4j import GraphDatabase"
   ]
  },
  {
   "cell_type": "code",
   "execution_count": 2,
   "id": "492f884e-8fe3-40ae-901c-867f6110f169",
   "metadata": {},
   "outputs": [],
   "source": [
    "tablas_names = ['estados', 'productos', 'tiendas']\n",
    "tablas2_name = ['clientes']\n",
    "relaciones_n = ['localizada_en', 'vende_en', 'compra']"
   ]
  },
  {
   "cell_type": "code",
   "execution_count": 3,
   "id": "2e03081a-4c0c-42f5-b009-fec5c4188a4f",
   "metadata": {},
   "outputs": [],
   "source": [
    "tablas = []\n",
    "for idx, elem in enumerate(tablas_names):\n",
    "    elem = pd.read_csv(f'./{tablas_names[idx]}.csv', encoding='latin1')\n",
    "    tablas.append(elem)"
   ]
  },
  {
   "cell_type": "code",
   "execution_count": 4,
   "id": "6cd67f7c-4ad7-49f7-b794-16ab9e6db2fd",
   "metadata": {},
   "outputs": [],
   "source": [
    "tablas2 = []\n",
    "for idx, elem in enumerate(tablas2_name):\n",
    "    elem = pd.read_csv(f'./{tablas2_name[idx]}.csv', encoding='latin1')\n",
    "    tablas2.append(elem)"
   ]
  },
  {
   "cell_type": "code",
   "execution_count": 5,
   "id": "b65b61eb-79dd-45e0-83c0-2c2653d9727c",
   "metadata": {},
   "outputs": [],
   "source": [
    "relaciones = []\n",
    "for idx, elem in enumerate(relaciones_n):\n",
    "    elem = pd.read_csv(f'./{relaciones_n[idx]}.csv', encoding='latin1')\n",
    "    relaciones.append(elem)"
   ]
  },
  {
   "cell_type": "code",
   "execution_count": 6,
   "id": "db33a4b2-1647-443a-9c81-3027995fdfac",
   "metadata": {},
   "outputs": [],
   "source": [
    "#tablas\n",
    "#tablas2\n",
    "#relaciones"
   ]
  },
  {
   "cell_type": "code",
   "execution_count": 7,
   "id": "c17da039-e12e-4bc6-b61b-c1d0839a68c4",
   "metadata": {},
   "outputs": [],
   "source": [
    "#Tablas con 1 columna\n",
    "for idx, df in enumerate(tablas2):\n",
    "    \n",
    "    nombre_tabla = tablas2_name[idx]\n",
    "    id_column = df.iloc[:,0]\n",
    "    execution_commands = []\n",
    "\n",
    "    for i in range(id_column.size):\n",
    "        neo4j_create_statement = f\"create ({nombre_tabla[0]}:{nombre_tabla} {{{id_column.name}:'{id_column.iloc[i]}'}})\"\n",
    "        execution_commands.append(neo4j_create_statement)\n",
    "\n",
    "\n",
    "    def execute_transactions(execution_commands):\n",
    "        data_base_connection = GraphDatabase.driver(uri = \"bolt://localhost:7687\", auth=(\"neo4j\", \"neo5j\"))\n",
    "        session = data_base_connection.session()    \n",
    "        for i in execution_commands:\n",
    "            session.run(i)\n",
    "    execute_transactions(execution_commands)"
   ]
  },
  {
   "cell_type": "code",
   "execution_count": 8,
   "id": "91545e4b-cc5e-48bd-81cb-8c1fcca18f2a",
   "metadata": {},
   "outputs": [],
   "source": [
    "#Tablas de 2 columnas\n",
    "for idx, df in enumerate(tablas):\n",
    "\n",
    "    nombre_tabla = tablas_names[idx]\n",
    "    id_column = df.iloc[:,1]\n",
    "    data_column = df.iloc[:,0]\n",
    "    execution_commands = []\n",
    "\n",
    "    for i in range(id_column.size):\n",
    "        neo4j_create_statement = f\"create ({nombre_tabla[0]}:{nombre_tabla} {{{id_column.name}:'{id_column.iloc[i]}', {data_column.name}: '{data_column.iloc[i]}'}})\"\n",
    "        execution_commands.append(neo4j_create_statement)\n",
    "\n",
    "\n",
    "    def execute_transactions(execution_commands):\n",
    "        data_base_connection = GraphDatabase.driver(uri = \"bolt://localhost:7687\", auth=(\"neo4j\", \"neo5j\"))\n",
    "        session = data_base_connection.session()    \n",
    "        for i in execution_commands:\n",
    "            session.run(i)\n",
    "\n",
    "\n",
    "    execute_transactions(execution_commands)    \n",
    "    "
   ]
  },
  {
   "cell_type": "markdown",
   "id": "cb5c9f93-fe4f-469e-b169-cb1048afc539",
   "metadata": {},
   "source": [
    "## Relaciones"
   ]
  },
  {
   "cell_type": "code",
   "execution_count": 9,
   "id": "ed617ee0-9791-4460-850d-ea19c88bca8a",
   "metadata": {},
   "outputs": [],
   "source": [
    "#Localizada en:\n",
    "\n",
    "idx = 0\n",
    "df = relaciones[idx]\n",
    "\n",
    "nombre_tabla = relaciones_n[idx]\n",
    "pid_column = df.iloc[:,1]\n",
    "sid_column = df.iloc[:,0]\n",
    "\n",
    "execution_commands = []\n",
    "for i in range(relaciones[0].shape[0]):\n",
    "    neo4j_create_statement = f\"match (t:tiendas {{{pid_column.name}: '{pid_column.iloc[i]}'}}) match (e:estados {{{sid_column.name}: '{sid_column.iloc[i]}'}}) create (t)-[lc:{nombre_tabla}]->(e)\"\n",
    "    execution_commands.append(neo4j_create_statement)\n",
    "\n",
    "def execute_transactions(execution_commands):\n",
    "    data_base_connection = GraphDatabase.driver(uri = \"bolt://localhost:7687\", auth=(\"neo4j\", \"neo5j\"))\n",
    "    session = data_base_connection.session()    \n",
    "    for i in execution_commands:\n",
    "        session.run(i)\n",
    "\n",
    "\n",
    "execute_transactions(execution_commands)  \n",
    "\n",
    "#f\"match t:tiendas {{{pid_column.name}: {pid_column_data}}} match e:estados {{{sid_column.name}: {sid_column_data}}} create (t)-[lc:{nombre_tabla}]->(e)\"\n"
   ]
  },
  {
   "cell_type": "code",
   "execution_count": 10,
   "id": "936cb692-4a1c-411f-bb08-d42efb98be9c",
   "metadata": {
    "tags": []
   },
   "outputs": [],
   "source": [
    "#Vende en:\n",
    "idx = 1\n",
    "df = relaciones[idx]\n",
    "\n",
    "nombre_tabla = relaciones_n[idx]\n",
    "pid_column = df.iloc[:,1]\n",
    "sid_column = df.iloc[:,0]\n",
    "data_column = df.iloc[:,2]\n",
    "\n",
    "execution_commands = []\n",
    "for i in range(pid_column.size):\n",
    "    neo4j_create_statement = f\"match (t:tiendas {{{pid_column.name}: '{pid_column.iloc[i]}'}}) match (p:productos {{{sid_column.name}: '{sid_column.iloc[i]}'}}) create (p)-[ve:{nombre_tabla}]->(t) set ve.incumplimiento = '{data_column[i]}'\"\n",
    "    execution_commands.append(neo4j_create_statement)\n",
    "\n",
    "\n",
    "def execute_transactions(execution_commands):\n",
    "    data_base_connection = GraphDatabase.driver(uri = \"bolt://localhost:7687\", auth=(\"neo4j\", \"neo5j\"))\n",
    "    session = data_base_connection.session()    \n",
    "    for i in execution_commands:\n",
    "        session.run(i)\n",
    "\n",
    "#len(execution_commands)\n",
    "execute_transactions(execution_commands)   "
   ]
  },
  {
   "cell_type": "code",
   "execution_count": 11,
   "id": "9d8d0cb5-565d-46e6-8421-b64e066c38f0",
   "metadata": {},
   "outputs": [
    {
     "data": {
      "text/html": [
       "<div>\n",
       "<style scoped>\n",
       "    .dataframe tbody tr th:only-of-type {\n",
       "        vertical-align: middle;\n",
       "    }\n",
       "\n",
       "    .dataframe tbody tr th {\n",
       "        vertical-align: top;\n",
       "    }\n",
       "\n",
       "    .dataframe thead th {\n",
       "        text-align: right;\n",
       "    }\n",
       "</style>\n",
       "<table border=\"1\" class=\"dataframe\">\n",
       "  <thead>\n",
       "    <tr style=\"text-align: right;\">\n",
       "      <th></th>\n",
       "      <th>Id_Cliente</th>\n",
       "      <th>Id_Producto</th>\n",
       "      <th>Id_Tienda</th>\n",
       "    </tr>\n",
       "  </thead>\n",
       "  <tbody>\n",
       "    <tr>\n",
       "      <th>0</th>\n",
       "      <td>c0</td>\n",
       "      <td>133p</td>\n",
       "      <td>2432t</td>\n",
       "    </tr>\n",
       "    <tr>\n",
       "      <th>1</th>\n",
       "      <td>c0</td>\n",
       "      <td>13p</td>\n",
       "      <td>2450t</td>\n",
       "    </tr>\n",
       "    <tr>\n",
       "      <th>2</th>\n",
       "      <td>c0</td>\n",
       "      <td>134p</td>\n",
       "      <td>3616t</td>\n",
       "    </tr>\n",
       "    <tr>\n",
       "      <th>3</th>\n",
       "      <td>c0</td>\n",
       "      <td>13p</td>\n",
       "      <td>2433t</td>\n",
       "    </tr>\n",
       "    <tr>\n",
       "      <th>4</th>\n",
       "      <td>c0</td>\n",
       "      <td>20p</td>\n",
       "      <td>4837t</td>\n",
       "    </tr>\n",
       "    <tr>\n",
       "      <th>...</th>\n",
       "      <td>...</td>\n",
       "      <td>...</td>\n",
       "      <td>...</td>\n",
       "    </tr>\n",
       "    <tr>\n",
       "      <th>994</th>\n",
       "      <td>c99</td>\n",
       "      <td>3p</td>\n",
       "      <td>6660t</td>\n",
       "    </tr>\n",
       "    <tr>\n",
       "      <th>995</th>\n",
       "      <td>c99</td>\n",
       "      <td>2p</td>\n",
       "      <td>6988t</td>\n",
       "    </tr>\n",
       "    <tr>\n",
       "      <th>996</th>\n",
       "      <td>c99</td>\n",
       "      <td>6p</td>\n",
       "      <td>7783t</td>\n",
       "    </tr>\n",
       "    <tr>\n",
       "      <th>997</th>\n",
       "      <td>c99</td>\n",
       "      <td>47p</td>\n",
       "      <td>107t</td>\n",
       "    </tr>\n",
       "    <tr>\n",
       "      <th>998</th>\n",
       "      <td>c99</td>\n",
       "      <td>41p</td>\n",
       "      <td>5912t</td>\n",
       "    </tr>\n",
       "  </tbody>\n",
       "</table>\n",
       "<p>999 rows × 3 columns</p>\n",
       "</div>"
      ],
      "text/plain": [
       "    Id_Cliente Id_Producto Id_Tienda\n",
       "0           c0        133p     2432t\n",
       "1           c0         13p     2450t\n",
       "2           c0        134p     3616t\n",
       "3           c0         13p     2433t\n",
       "4           c0         20p     4837t\n",
       "..         ...         ...       ...\n",
       "994        c99          3p     6660t\n",
       "995        c99          2p     6988t\n",
       "996        c99          6p     7783t\n",
       "997        c99         47p      107t\n",
       "998        c99         41p     5912t\n",
       "\n",
       "[999 rows x 3 columns]"
      ]
     },
     "execution_count": 11,
     "metadata": {},
     "output_type": "execute_result"
    }
   ],
   "source": [
    "idx = 2\n",
    "df = relaciones[idx]\n",
    "df\n",
    "#relaciones_n[idx]"
   ]
  },
  {
   "cell_type": "code",
   "execution_count": 12,
   "id": "9c86f400-aaa8-41f7-bf27-2d5bb5f5258f",
   "metadata": {},
   "outputs": [],
   "source": [
    "#Compra:\n",
    "idx = 2\n",
    "df = relaciones[idx]\n",
    "\n",
    "nombre_tabla = relaciones_n[idx]\n",
    "col_clie = df.Id_Cliente\n",
    "col_prod = df.Id_Producto\n",
    "col_tien = df.Id_Tienda\n",
    "\n",
    "execution_commands = []\n",
    "for i in range(col_clie.size):\n",
    "    neo4j_create_statement = f\"match (c:clientes {{{col_clie.name}: '{col_clie.iloc[i]}'}}) match (p:productos {{{col_prod.name}: '{col_prod.iloc[i]}'}}) create (c)-[ve:{nombre_tabla}]->(p) set ve.en = '{col_tien[i]}'\"\n",
    "    execution_commands.append(neo4j_create_statement)\n",
    "\n",
    "\n",
    "def execute_transactions(execution_commands):\n",
    "    data_base_connection = GraphDatabase.driver(uri = \"bolt://localhost:7687\", auth=(\"neo4j\", \"neo5j\"))\n",
    "    session = data_base_connection.session()    \n",
    "    for i in execution_commands:\n",
    "        session.run(i)\n",
    "\n",
    "#execution_commands[:15]\n",
    "execute_transactions(execution_commands)   \n",
    "\n",
    "#f\"match (c:clientes {{{col_clie.name}: '{col_clie.iloc[0]}'}}) match (p:productos {{{col_prod.name}: '{col_prod.iloc[0]}'}}) create (p)-[co:{nombre_tabla}]->(t) set co.en = '{col_tien[0]}'\"\n"
   ]
  },
  {
   "cell_type": "code",
   "execution_count": 13,
   "id": "fb772f7d-c1ff-4784-8c65-ec0149e698e7",
   "metadata": {},
   "outputs": [
    {
     "ename": "SyntaxError",
     "evalue": "invalid syntax (1461673234.py, line 1)",
     "output_type": "error",
     "traceback": [
      "\u001b[0;36m  Input \u001b[0;32mIn [13]\u001b[0;36m\u001b[0m\n\u001b[0;31m    MATCH (order:Order {orderID: row.OrderID})\u001b[0m\n\u001b[0m                ^\u001b[0m\n\u001b[0;31mSyntaxError\u001b[0m\u001b[0;31m:\u001b[0m invalid syntax\n"
     ]
    }
   ],
   "source": [
    "MATCH (order:Order {orderID: row.OrderID})\n",
    "MATCH (product:Product {productID: row.ProductID})\n",
    "MERGE (order)-[op:CONTAINS]->(product)"
   ]
  },
  {
   "cell_type": "code",
   "execution_count": null,
   "id": "92ab589f-3d36-43e0-9cda-f3e0f7a07665",
   "metadata": {},
   "outputs": [],
   "source": [
    "tiendas -> localizada_en -> estados\n",
    "\n",
    "productos -> vende_en -> tiendas\n",
    "\n",
    "clientes -> compra -> productos"
   ]
  }
 ],
 "metadata": {
  "kernelspec": {
   "display_name": "Python 3 (ipykernel)",
   "language": "python",
   "name": "python3"
  },
  "language_info": {
   "codemirror_mode": {
    "name": "ipython",
    "version": 3
   },
   "file_extension": ".py",
   "mimetype": "text/x-python",
   "name": "python",
   "nbconvert_exporter": "python",
   "pygments_lexer": "ipython3",
   "version": "3.9.11"
  }
 },
 "nbformat": 4,
 "nbformat_minor": 5
}

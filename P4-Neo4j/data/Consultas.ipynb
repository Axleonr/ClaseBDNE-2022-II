{
 "cells": [
  {
   "cell_type": "code",
   "execution_count": 2,
   "id": "294afeb0-ac7b-42bf-9a5a-4a488f9068f5",
   "metadata": {},
   "outputs": [],
   "source": [
    "from neo4j import GraphDatabase\n",
    "import pandas as pd"
   ]
  },
  {
   "cell_type": "code",
   "execution_count": 3,
   "id": "7bceac52-73ca-4804-8e01-a0197c88330c",
   "metadata": {},
   "outputs": [],
   "source": [
    "#Connection\n",
    "\n",
    "database_connection = GraphDatabase.driver(uri = \"bolt://localhost:7687\", auth=(\"neo4j\", \"neo5j\"))\n",
    "session = database_connection.session()  "
   ]
  },
  {
   "cell_type": "code",
   "execution_count": 4,
   "id": "5885b620-fe09-4418-92f4-41d7166955b9",
   "metadata": {},
   "outputs": [],
   "source": [
    "#Separando los resultados por variable\n",
    "\n",
    "def split_variables(resobj):\n",
    "    varlist = []\n",
    "    keys = resobj.keys()\n",
    "    data = resobj.data()\n",
    "    for idx, var in enumerate(keys):\n",
    "        #vardict = { keys[kidx] : var for kidx, var in enumerate(data) }\n",
    "        attriblist = [dct[var] for dct in data]\n",
    "        varlist.append(attriblist)\n",
    "        \n",
    "    vardict = { keys[kidx] : val for kidx, val in enumerate(varlist) }\n",
    "    return vardict"
   ]
  },
  {
   "cell_type": "markdown",
   "id": "b390ab35-f431-4667-b514-9c58b1dfd377",
   "metadata": {},
   "source": [
    "## Funciones de consulta"
   ]
  },
  {
   "cell_type": "code",
   "execution_count": 157,
   "id": "686f2b3a-a300-4e0e-9bea-699d7879ffce",
   "metadata": {},
   "outputs": [],
   "source": [
    "def consulta1(producto,estado,num_resultados):\n",
    "    s1 = \"MATCH (p:productos {Tipo_Producto :'\"+producto+\"'}) \"\n",
    "    s2 = \"MATCH (e:estados {Nombre_Estado:'\"+estado+\"'}) \"\n",
    "    s3 = \"MATCH (t:tiendas) \\\n",
    "MATCH (e) -[v]- (t) -- (p) \\\n",
    "RETURN t\"\n",
    "\n",
    "    c1 = s1+s2+s3\n",
    "    result = session.run(c1)\n",
    "    res = split_variables(result)\n",
    "    if len(res['t']) > num_resultados:\n",
    "        #print(res['t'][:num_resultados])\n",
    "        return list(map((lambda dct : dct['Nombre_Tienda']), res['t'][:num_resultados]))\n",
    "    else:\n",
    "        #print(res['t'])\n",
    "        return list(map((lambda dct : dct['Nombre_Tienda']), res['t']))   "
   ]
  },
  {
   "cell_type": "code",
   "execution_count": 158,
   "id": "ec357b3d-d22f-453f-a7cb-ad02a448d68e",
   "metadata": {
    "tags": []
   },
   "outputs": [
    {
     "data": {
      "text/plain": [
       "['TIENDAS SORIANA  S.A. DE C.V.',\n",
       " 'SUSHITO - JUAN FERNANDO OROZCO CARDONA',\n",
       " 'RESTAURANTE AUGUSTOÃ¯S S.A. DE C.V.',\n",
       " 'WINGS AIR FORCE- FRANQUICIAS WINGS AIR FORCE  S. DE R.L. DE C.V.',\n",
       " 'LA MANSION- RICHYCARLS  S.A. DE C.V.']"
      ]
     },
     "execution_count": 158,
     "metadata": {},
     "output_type": "execute_result"
    }
   ],
   "source": [
    "consulta1('BRANDY','AGUASCALIENTES',5)"
   ]
  },
  {
   "cell_type": "code",
   "execution_count": 145,
   "id": "0e5d056c-a5b1-4d91-b4b1-a4ccd40fed53",
   "metadata": {},
   "outputs": [],
   "source": [
    "def consulta2(estado,tienda):\n",
    "    s1 = \"MATCH (e:estados {Nombre_Estado :'\"+estado+\"'}) \"\n",
    "    s2 = \"MATCH (t:tiendas {Nombre_Tienda: '\"+tienda+\"'}) \"\n",
    "    s3 = \"MATCH (p:productos) \\\n",
    "MATCH (e) -- (t) -[v]- (p) \\\n",
    "RETURN e, t, p, v.incumplimiento\"\n",
    "    c2 = s1+s2+s3\n",
    "\n",
    "    result = session.run(c2)\n",
    "    res = split_variables(result)\n",
    "    return res['v.incumplimiento']"
   ]
  },
  {
   "cell_type": "code",
   "execution_count": 146,
   "id": "f653458c-938b-4240-9511-2c1cc6ee7296",
   "metadata": {},
   "outputs": [
    {
     "data": {
      "text/plain": [
       "['NO SE DETECTO INCUMPLIMIENTO']"
      ]
     },
     "execution_count": 146,
     "metadata": {},
     "output_type": "execute_result"
    }
   ],
   "source": [
    "consulta2('BAJA CALIFORNIA','CARNE MART SUCURSAL TECATE')"
   ]
  },
  {
   "cell_type": "code",
   "execution_count": 100,
   "id": "abbf6e03-5e43-4b47-a99a-5e904997025c",
   "metadata": {},
   "outputs": [],
   "source": [
    "c0 = 'match (n) RETURN n'\n",
    "\n",
    "result = session.run(c0)\n",
    "res = split_variables(result)\n",
    "res['n'][:20]"
   ]
  },
  {
   "cell_type": "code",
   "execution_count": 132,
   "id": "09c2db49-54c0-4ab8-838f-364827c3addc",
   "metadata": {},
   "outputs": [
    {
     "data": {
      "text/plain": [
       "\"MATCH (p:productos {Tipo_Producto:'BRANDY'}) MATCH (e:estados {Nombre_Estado:'AGUASCALIENTES'}) MATCH (t:tiendas) MATCH (e) -[v]- (t) -- (p) RETURN t\""
      ]
     },
     "execution_count": 132,
     "metadata": {},
     "output_type": "execute_result"
    }
   ],
   "source": [
    "c1"
   ]
  },
  {
   "cell_type": "code",
   "execution_count": 119,
   "id": "e2571d6d-e87a-4bdf-a542-853d656af8a2",
   "metadata": {},
   "outputs": [
    {
     "data": {
      "text/plain": [
       "[{'Id_Tienda': '137t', 'Nombre_Tienda': 'TIENDAS SORIANA  S.A. DE C.V.'},\n",
       " {'Id_Tienda': '82t',\n",
       "  'Nombre_Tienda': 'SUSHITO - JUAN FERNANDO OROZCO CARDONA'},\n",
       " {'Id_Tienda': '74t', 'Nombre_Tienda': 'RESTAURANTE AUGUSTOÃ¯S S.A. DE C.V.'},\n",
       " {'Id_Tienda': '66t',\n",
       "  'Nombre_Tienda': 'WINGS AIR FORCE- FRANQUICIAS WINGS AIR FORCE  S. DE R.L. DE C.V.'},\n",
       " {'Id_Tienda': '65t', 'Nombre_Tienda': 'LA MANSION- RICHYCARLS  S.A. DE C.V.'}]"
      ]
     },
     "execution_count": 119,
     "metadata": {},
     "output_type": "execute_result"
    }
   ],
   "source": [
    "# dado estado y producto   buscar lugares donde se pueda encontrar\n",
    "\n",
    "c1 = \"MATCH (p:productos {Tipo_Producto:'BRANDY'}) \\\n",
    "MATCH (e:estados {Nombre_Estado:'AGUASCALIENTES'}) \\\n",
    "MATCH (t:tiendas) \\\n",
    "MATCH (e) -[v]- (t) -- (p) \\\n",
    "RETURN t\"\n",
    "\n",
    "result = session.run(c1)\n",
    "res = split_variables(result)\n",
    "res['t'][:5]"
   ]
  },
  {
   "cell_type": "code",
   "execution_count": 81,
   "id": "5e1b9733-cde1-46bd-a91c-4271cf63ebe7",
   "metadata": {},
   "outputs": [],
   "source": [
    "#dado estado y tienda ver si tiene incumplimientos.\n",
    "\n",
    "c2 = \"MATCH (e:estados {Nombre_Estado :'BAJA CALIFORNIA'}) \\\n",
    "MATCH (t:tiendas {Nombre_Tienda: 'CARNE MART SUCURSAL TECATE'}) \\\n",
    "MATCH (p:productos) \\\n",
    "MATCH (e) -- (t) -[v]- (p) \\\n",
    "RETURN e, t, p, v.incumplimiento\"\n",
    "\n",
    "result = session.run(c2)\n",
    "res = split_variables(result)\n",
    "res"
   ]
  },
  {
   "cell_type": "code",
   "execution_count": 144,
   "id": "4fd0408e-3719-44ad-8213-ff733c2dafd0",
   "metadata": {},
   "outputs": [
    {
     "data": {
      "text/plain": [
       "{'e': [{'Nombre_Estado': 'BAJA CALIFORNIA', 'Id_Estado': 'BAJA CALIFORNIA'},\n",
       "  {'Nombre_Estado': 'BAJA CALIFORNIA', 'Id_Estado': 'BAJA CALIFORNIA'}],\n",
       " 'p': [{'Id_Producto': '2p', 'Tipo_Producto': 'BRANDY'},\n",
       "  {'Id_Producto': '2p', 'Tipo_Producto': 'BRANDY'}],\n",
       " 't': [{'Id_Tienda': '137t', 'Nombre_Tienda': 'TIENDAS SORIANA  S.A. DE C.V.'},\n",
       "  {'Id_Tienda': '1692t', 'Nombre_Tienda': '7 ELEVEN MEXICO  S.A. DE C.V.'}],\n",
       " 'v.incumplimiento': ['NO SE DETECTO INCUMPLIMIENTO',\n",
       "  'NO SE DETECTO INCUMPLIMIENTO']}"
      ]
     },
     "execution_count": 144,
     "metadata": {},
     "output_type": "execute_result"
    }
   ],
   "source": [
    "# Dado un estado y un producto. buscar alternativas sin incumplimiento de ese producto\n",
    "\n",
    "c3 = \"MATCH (e:estados {Nombre_Estado :'BAJA CALIFORNIA'}) \\\n",
    "MATCH (p:productos {Tipo_Producto:'BRANDY'}) \\\n",
    "MATCH (t:tiendas) \\\n",
    "MATCH (e) -- (t) -[v {incumplimiento : 'NO SE DETECTO INCUMPLIMIENTO'}]- (p) \\\n",
    "RETURN e, p, t, v.incumplimiento\"\n",
    "\n",
    "result = session.run(c3)\n",
    "res = split_variables(result)\n",
    "res"
   ]
  },
  {
   "cell_type": "code",
   "execution_count": null,
   "id": "8cd32111-7f4d-46db-8f2e-228f1f19a463",
   "metadata": {},
   "outputs": [],
   "source": [
    "c4 = \"()-[tp: vende]->() \\\n",
    "      RETURN t.Nombre_Tienda, \\\n",
    "      p.Nombre_Producto \\\n",
    "      LIMIT 10\""
   ]
  },
  {
   "cell_type": "code",
   "execution_count": 195,
   "id": "581f0824-5f32-45af-85a1-106a2a038616",
   "metadata": {},
   "outputs": [
    {
     "ename": "CypherSyntaxError",
     "evalue": "{code: Neo.ClientError.Statement.SyntaxError} {message: Invalid input '(': expected <init> (line 1, column 1 (offset: 0))\n\"()-[tp: vende]->()       RETURN t.Nombre_Tienda,       p.Nombre_Producto       LIMIT 10\"\n ^}",
     "output_type": "error",
     "traceback": [
      "\u001b[0;31m---------------------------------------------------------------------------\u001b[0m",
      "\u001b[0;31mCypherSyntaxError\u001b[0m                         Traceback (most recent call last)",
      "Input \u001b[0;32mIn [195]\u001b[0m, in \u001b[0;36m<cell line: 1>\u001b[0;34m()\u001b[0m\n\u001b[0;32m----> 1\u001b[0m result \u001b[38;5;241m=\u001b[39m \u001b[43msession\u001b[49m\u001b[38;5;241;43m.\u001b[39;49m\u001b[43mrun\u001b[49m\u001b[43m(\u001b[49m\u001b[43mc4\u001b[49m\u001b[43m)\u001b[49m\n\u001b[1;32m      2\u001b[0m result\n\u001b[1;32m      3\u001b[0m res \u001b[38;5;241m=\u001b[39m split_variables(result)\n",
      "File \u001b[0;32m~/anaconda3/envs/Python_full/lib/python3.9/site-packages/neo4j/work/simple.py:215\u001b[0m, in \u001b[0;36mSession.run\u001b[0;34m(self, query, parameters, **kwparameters)\u001b[0m\n\u001b[1;32m    209\u001b[0m hydrant \u001b[38;5;241m=\u001b[39m DataHydrator()\n\u001b[1;32m    211\u001b[0m \u001b[38;5;28mself\u001b[39m\u001b[38;5;241m.\u001b[39m_autoResult \u001b[38;5;241m=\u001b[39m Result(\n\u001b[1;32m    212\u001b[0m     cx, hydrant, \u001b[38;5;28mself\u001b[39m\u001b[38;5;241m.\u001b[39m_config\u001b[38;5;241m.\u001b[39mfetch_size, \u001b[38;5;28mself\u001b[39m\u001b[38;5;241m.\u001b[39m_result_closed,\n\u001b[1;32m    213\u001b[0m     \u001b[38;5;28mself\u001b[39m\u001b[38;5;241m.\u001b[39m_result_error\n\u001b[1;32m    214\u001b[0m )\n\u001b[0;32m--> 215\u001b[0m \u001b[38;5;28;43mself\u001b[39;49m\u001b[38;5;241;43m.\u001b[39;49m\u001b[43m_autoResult\u001b[49m\u001b[38;5;241;43m.\u001b[39;49m\u001b[43m_run\u001b[49m\u001b[43m(\u001b[49m\n\u001b[1;32m    216\u001b[0m \u001b[43m    \u001b[49m\u001b[43mquery\u001b[49m\u001b[43m,\u001b[49m\u001b[43m \u001b[49m\u001b[43mparameters\u001b[49m\u001b[43m,\u001b[49m\u001b[43m \u001b[49m\u001b[38;5;28;43mself\u001b[39;49m\u001b[38;5;241;43m.\u001b[39;49m\u001b[43m_config\u001b[49m\u001b[38;5;241;43m.\u001b[39;49m\u001b[43mdatabase\u001b[49m\u001b[43m,\u001b[49m\n\u001b[1;32m    217\u001b[0m \u001b[43m    \u001b[49m\u001b[38;5;28;43mself\u001b[39;49m\u001b[38;5;241;43m.\u001b[39;49m\u001b[43m_config\u001b[49m\u001b[38;5;241;43m.\u001b[39;49m\u001b[43mimpersonated_user\u001b[49m\u001b[43m,\u001b[49m\u001b[43m \u001b[49m\u001b[38;5;28;43mself\u001b[39;49m\u001b[38;5;241;43m.\u001b[39;49m\u001b[43m_config\u001b[49m\u001b[38;5;241;43m.\u001b[39;49m\u001b[43mdefault_access_mode\u001b[49m\u001b[43m,\u001b[49m\n\u001b[1;32m    218\u001b[0m \u001b[43m    \u001b[49m\u001b[38;5;28;43mself\u001b[39;49m\u001b[38;5;241;43m.\u001b[39;49m\u001b[43m_bookmarks\u001b[49m\u001b[43m,\u001b[49m\u001b[43m \u001b[49m\u001b[38;5;241;43m*\u001b[39;49m\u001b[38;5;241;43m*\u001b[39;49m\u001b[43mkwparameters\u001b[49m\n\u001b[1;32m    219\u001b[0m \u001b[43m\u001b[49m\u001b[43m)\u001b[49m\n\u001b[1;32m    221\u001b[0m \u001b[38;5;28;01mreturn\u001b[39;00m \u001b[38;5;28mself\u001b[39m\u001b[38;5;241m.\u001b[39m_autoResult\n",
      "File \u001b[0;32m~/anaconda3/envs/Python_full/lib/python3.9/site-packages/neo4j/work/result.py:114\u001b[0m, in \u001b[0;36mResult._run\u001b[0;34m(self, query, parameters, db, imp_user, access_mode, bookmarks, **kwparameters)\u001b[0m\n\u001b[1;32m    112\u001b[0m \u001b[38;5;28mself\u001b[39m\u001b[38;5;241m.\u001b[39m_pull()\n\u001b[1;32m    113\u001b[0m \u001b[38;5;28mself\u001b[39m\u001b[38;5;241m.\u001b[39m_connection\u001b[38;5;241m.\u001b[39msend_all()\n\u001b[0;32m--> 114\u001b[0m \u001b[38;5;28;43mself\u001b[39;49m\u001b[38;5;241;43m.\u001b[39;49m\u001b[43m_attach\u001b[49m\u001b[43m(\u001b[49m\u001b[43m)\u001b[49m\n",
      "File \u001b[0;32m~/anaconda3/envs/Python_full/lib/python3.9/site-packages/neo4j/work/result.py:203\u001b[0m, in \u001b[0;36mResult._attach\u001b[0;34m(self)\u001b[0m\n\u001b[1;32m    201\u001b[0m \u001b[38;5;28;01mif\u001b[39;00m \u001b[38;5;28mself\u001b[39m\u001b[38;5;241m.\u001b[39m_closed \u001b[38;5;129;01mis\u001b[39;00m \u001b[38;5;28;01mFalse\u001b[39;00m:\n\u001b[1;32m    202\u001b[0m     \u001b[38;5;28;01mwhile\u001b[39;00m \u001b[38;5;28mself\u001b[39m\u001b[38;5;241m.\u001b[39m_attached \u001b[38;5;129;01mis\u001b[39;00m \u001b[38;5;28;01mFalse\u001b[39;00m:\n\u001b[0;32m--> 203\u001b[0m         \u001b[38;5;28;43mself\u001b[39;49m\u001b[38;5;241;43m.\u001b[39;49m\u001b[43m_connection\u001b[49m\u001b[38;5;241;43m.\u001b[39;49m\u001b[43mfetch_message\u001b[49m\u001b[43m(\u001b[49m\u001b[43m)\u001b[49m\n",
      "File \u001b[0;32m~/anaconda3/envs/Python_full/lib/python3.9/site-packages/neo4j/io/_common.py:170\u001b[0m, in \u001b[0;36mConnectionErrorHandler.__getattr__.<locals>.outer.<locals>.inner\u001b[0;34m(*args, **kwargs)\u001b[0m\n\u001b[1;32m    168\u001b[0m \u001b[38;5;28;01mdef\u001b[39;00m \u001b[38;5;21minner\u001b[39m(\u001b[38;5;241m*\u001b[39margs, \u001b[38;5;241m*\u001b[39m\u001b[38;5;241m*\u001b[39mkwargs):\n\u001b[1;32m    169\u001b[0m     \u001b[38;5;28;01mtry\u001b[39;00m:\n\u001b[0;32m--> 170\u001b[0m         \u001b[43mfunc\u001b[49m\u001b[43m(\u001b[49m\u001b[38;5;241;43m*\u001b[39;49m\u001b[43margs\u001b[49m\u001b[43m,\u001b[49m\u001b[43m \u001b[49m\u001b[38;5;241;43m*\u001b[39;49m\u001b[38;5;241;43m*\u001b[39;49m\u001b[43mkwargs\u001b[49m\u001b[43m)\u001b[49m\n\u001b[1;32m    171\u001b[0m     \u001b[38;5;28;01mexcept\u001b[39;00m (Neo4jError, ServiceUnavailable, SessionExpired) \u001b[38;5;28;01mas\u001b[39;00m exc:\n\u001b[1;32m    172\u001b[0m         \u001b[38;5;28mself\u001b[39m\u001b[38;5;241m.\u001b[39m__on_error(exc)\n",
      "File \u001b[0;32m~/anaconda3/envs/Python_full/lib/python3.9/site-packages/neo4j/io/_bolt4.py:309\u001b[0m, in \u001b[0;36mBolt4x0.fetch_message\u001b[0;34m(self)\u001b[0m\n\u001b[1;32m    307\u001b[0m \u001b[38;5;28mself\u001b[39m\u001b[38;5;241m.\u001b[39m_server_state_manager\u001b[38;5;241m.\u001b[39mstate \u001b[38;5;241m=\u001b[39m ServerStates\u001b[38;5;241m.\u001b[39mFAILED\n\u001b[1;32m    308\u001b[0m \u001b[38;5;28;01mtry\u001b[39;00m:\n\u001b[0;32m--> 309\u001b[0m     \u001b[43mresponse\u001b[49m\u001b[38;5;241;43m.\u001b[39;49m\u001b[43mon_failure\u001b[49m\u001b[43m(\u001b[49m\u001b[43msummary_metadata\u001b[49m\u001b[43m \u001b[49m\u001b[38;5;129;43;01mor\u001b[39;49;00m\u001b[43m \u001b[49m\u001b[43m{\u001b[49m\u001b[43m}\u001b[49m\u001b[43m)\u001b[49m\n\u001b[1;32m    310\u001b[0m \u001b[38;5;28;01mexcept\u001b[39;00m (ServiceUnavailable, DatabaseUnavailable):\n\u001b[1;32m    311\u001b[0m     \u001b[38;5;28;01mif\u001b[39;00m \u001b[38;5;28mself\u001b[39m\u001b[38;5;241m.\u001b[39mpool:\n",
      "File \u001b[0;32m~/anaconda3/envs/Python_full/lib/python3.9/site-packages/neo4j/io/_common.py:228\u001b[0m, in \u001b[0;36mResponse.on_failure\u001b[0;34m(self, metadata)\u001b[0m\n\u001b[1;32m    226\u001b[0m \u001b[38;5;28;01mif\u001b[39;00m callable(handler):\n\u001b[1;32m    227\u001b[0m     handler()\n\u001b[0;32m--> 228\u001b[0m \u001b[38;5;28;01mraise\u001b[39;00m Neo4jError\u001b[38;5;241m.\u001b[39mhydrate(\u001b[38;5;241m*\u001b[39m\u001b[38;5;241m*\u001b[39mmetadata)\n",
      "\u001b[0;31mCypherSyntaxError\u001b[0m: {code: Neo.ClientError.Statement.SyntaxError} {message: Invalid input '(': expected <init> (line 1, column 1 (offset: 0))\n\"()-[tp: vende]->()       RETURN t.Nombre_Tienda,       p.Nombre_Producto       LIMIT 10\"\n ^}"
     ]
    }
   ],
   "source": [
    "result = session.run(c4)\n",
    "result\n",
    "res = split_variables(result)\n",
    "res"
   ]
  },
  {
   "cell_type": "code",
   "execution_count": 196,
   "id": "afa5604f-4714-46ff-97ee-2384f04b731f",
   "metadata": {},
   "outputs": [
    {
     "data": {
      "text/plain": [
       "'MATCH (t:Tienda) -> '"
      ]
     },
     "execution_count": 196,
     "metadata": {},
     "output_type": "execute_result"
    }
   ],
   "source": [
    "c5 = \"MATCH (t:Tienda) -> \\\n",
    "      [te:localizada_en] -> \\\n",
    "      (e.Estado) \\\n",
    "      CALL {with store \\\n",
    "      MATCH (t:Tienda) - \\\n",
    "      [tp: vende] -> \\\n",
    "      (p:Producto) \\\n",
    "      WHERE tp.INCUMPLIMIENTO = 'NO SE DETECTO INCUMPLIMIENTO' \\\n",
    "      RETURN count(p) as X} \\\n",
    "      RETURN e.Nombre_Estado, \\\n",
    "      sum(X) as Cantidad_Productos_Sin_Incumplimiento, \\\n",
    "      count(Tienda) as Cantidad_Tiendas, \\\n",
    "      toFloat(sum(X)/toFloat(count(Tienda))) as Ratio \\\n",
    "      ORDER BY Ratio\"\n",
    "\n",
    "c5[:20]"
   ]
  },
  {
   "cell_type": "code",
   "execution_count": 197,
   "id": "be260511-808c-4671-9b92-9f66ce41f400",
   "metadata": {},
   "outputs": [
    {
     "ename": "CypherSyntaxError",
     "evalue": "{code: Neo.ClientError.Statement.SyntaxError} {message: Invalid input '-': expected\n  \",\"\n  \"CALL\"\n  \"CREATE\"\n  \"DELETE\"\n  \"DETACH\"\n  \"FOREACH\"\n  \"LOAD\"\n  \"MATCH\"\n  \"MERGE\"\n  \"OPTIONAL\"\n  \"REMOVE\"\n  \"RETURN\"\n  \"SET\"\n  \"UNION\"\n  \"UNWIND\"\n  \"USE\"\n  \"USING\"\n  \"WHERE\"\n  \"WITH\"\n  <EOF> (line 1, column 18 (offset: 17))\n\"MATCH (t:Tienda) ->       [te:localizada_en] ->       (e.Estado)       CALL {with store       MATCH (t:Tienda) -       [tp: vende] ->       (p:Producto)       WHERE tp.INCUMPLIMIENTO = 'NO SE DETECTO INCUMPLIMIENTO'       RETURN count(p) as X}       RETURN e.Nombre_Estado,       sum(X) as Cantidad_Productos_Sin_Incumplimiento,       count(Tienda) as Cantidad_Tiendas,       toFloat(sum(X)/toFloat(count(Tienda))) as Ratio       ORDER BY Ratio\"\n                  ^}",
     "output_type": "error",
     "traceback": [
      "\u001b[0;31m---------------------------------------------------------------------------\u001b[0m",
      "\u001b[0;31mCypherSyntaxError\u001b[0m                         Traceback (most recent call last)",
      "Input \u001b[0;32mIn [197]\u001b[0m, in \u001b[0;36m<cell line: 1>\u001b[0;34m()\u001b[0m\n\u001b[0;32m----> 1\u001b[0m result \u001b[38;5;241m=\u001b[39m \u001b[43msession\u001b[49m\u001b[38;5;241;43m.\u001b[39;49m\u001b[43mrun\u001b[49m\u001b[43m(\u001b[49m\u001b[43mc5\u001b[49m\u001b[43m)\u001b[49m\n\u001b[1;32m      2\u001b[0m result\n\u001b[1;32m      3\u001b[0m res \u001b[38;5;241m=\u001b[39m split_variables(result)\n",
      "File \u001b[0;32m~/anaconda3/envs/Python_full/lib/python3.9/site-packages/neo4j/work/simple.py:215\u001b[0m, in \u001b[0;36mSession.run\u001b[0;34m(self, query, parameters, **kwparameters)\u001b[0m\n\u001b[1;32m    209\u001b[0m hydrant \u001b[38;5;241m=\u001b[39m DataHydrator()\n\u001b[1;32m    211\u001b[0m \u001b[38;5;28mself\u001b[39m\u001b[38;5;241m.\u001b[39m_autoResult \u001b[38;5;241m=\u001b[39m Result(\n\u001b[1;32m    212\u001b[0m     cx, hydrant, \u001b[38;5;28mself\u001b[39m\u001b[38;5;241m.\u001b[39m_config\u001b[38;5;241m.\u001b[39mfetch_size, \u001b[38;5;28mself\u001b[39m\u001b[38;5;241m.\u001b[39m_result_closed,\n\u001b[1;32m    213\u001b[0m     \u001b[38;5;28mself\u001b[39m\u001b[38;5;241m.\u001b[39m_result_error\n\u001b[1;32m    214\u001b[0m )\n\u001b[0;32m--> 215\u001b[0m \u001b[38;5;28;43mself\u001b[39;49m\u001b[38;5;241;43m.\u001b[39;49m\u001b[43m_autoResult\u001b[49m\u001b[38;5;241;43m.\u001b[39;49m\u001b[43m_run\u001b[49m\u001b[43m(\u001b[49m\n\u001b[1;32m    216\u001b[0m \u001b[43m    \u001b[49m\u001b[43mquery\u001b[49m\u001b[43m,\u001b[49m\u001b[43m \u001b[49m\u001b[43mparameters\u001b[49m\u001b[43m,\u001b[49m\u001b[43m \u001b[49m\u001b[38;5;28;43mself\u001b[39;49m\u001b[38;5;241;43m.\u001b[39;49m\u001b[43m_config\u001b[49m\u001b[38;5;241;43m.\u001b[39;49m\u001b[43mdatabase\u001b[49m\u001b[43m,\u001b[49m\n\u001b[1;32m    217\u001b[0m \u001b[43m    \u001b[49m\u001b[38;5;28;43mself\u001b[39;49m\u001b[38;5;241;43m.\u001b[39;49m\u001b[43m_config\u001b[49m\u001b[38;5;241;43m.\u001b[39;49m\u001b[43mimpersonated_user\u001b[49m\u001b[43m,\u001b[49m\u001b[43m \u001b[49m\u001b[38;5;28;43mself\u001b[39;49m\u001b[38;5;241;43m.\u001b[39;49m\u001b[43m_config\u001b[49m\u001b[38;5;241;43m.\u001b[39;49m\u001b[43mdefault_access_mode\u001b[49m\u001b[43m,\u001b[49m\n\u001b[1;32m    218\u001b[0m \u001b[43m    \u001b[49m\u001b[38;5;28;43mself\u001b[39;49m\u001b[38;5;241;43m.\u001b[39;49m\u001b[43m_bookmarks\u001b[49m\u001b[43m,\u001b[49m\u001b[43m \u001b[49m\u001b[38;5;241;43m*\u001b[39;49m\u001b[38;5;241;43m*\u001b[39;49m\u001b[43mkwparameters\u001b[49m\n\u001b[1;32m    219\u001b[0m \u001b[43m\u001b[49m\u001b[43m)\u001b[49m\n\u001b[1;32m    221\u001b[0m \u001b[38;5;28;01mreturn\u001b[39;00m \u001b[38;5;28mself\u001b[39m\u001b[38;5;241m.\u001b[39m_autoResult\n",
      "File \u001b[0;32m~/anaconda3/envs/Python_full/lib/python3.9/site-packages/neo4j/work/result.py:114\u001b[0m, in \u001b[0;36mResult._run\u001b[0;34m(self, query, parameters, db, imp_user, access_mode, bookmarks, **kwparameters)\u001b[0m\n\u001b[1;32m    112\u001b[0m \u001b[38;5;28mself\u001b[39m\u001b[38;5;241m.\u001b[39m_pull()\n\u001b[1;32m    113\u001b[0m \u001b[38;5;28mself\u001b[39m\u001b[38;5;241m.\u001b[39m_connection\u001b[38;5;241m.\u001b[39msend_all()\n\u001b[0;32m--> 114\u001b[0m \u001b[38;5;28;43mself\u001b[39;49m\u001b[38;5;241;43m.\u001b[39;49m\u001b[43m_attach\u001b[49m\u001b[43m(\u001b[49m\u001b[43m)\u001b[49m\n",
      "File \u001b[0;32m~/anaconda3/envs/Python_full/lib/python3.9/site-packages/neo4j/work/result.py:203\u001b[0m, in \u001b[0;36mResult._attach\u001b[0;34m(self)\u001b[0m\n\u001b[1;32m    201\u001b[0m \u001b[38;5;28;01mif\u001b[39;00m \u001b[38;5;28mself\u001b[39m\u001b[38;5;241m.\u001b[39m_closed \u001b[38;5;129;01mis\u001b[39;00m \u001b[38;5;28;01mFalse\u001b[39;00m:\n\u001b[1;32m    202\u001b[0m     \u001b[38;5;28;01mwhile\u001b[39;00m \u001b[38;5;28mself\u001b[39m\u001b[38;5;241m.\u001b[39m_attached \u001b[38;5;129;01mis\u001b[39;00m \u001b[38;5;28;01mFalse\u001b[39;00m:\n\u001b[0;32m--> 203\u001b[0m         \u001b[38;5;28;43mself\u001b[39;49m\u001b[38;5;241;43m.\u001b[39;49m\u001b[43m_connection\u001b[49m\u001b[38;5;241;43m.\u001b[39;49m\u001b[43mfetch_message\u001b[49m\u001b[43m(\u001b[49m\u001b[43m)\u001b[49m\n",
      "File \u001b[0;32m~/anaconda3/envs/Python_full/lib/python3.9/site-packages/neo4j/io/_common.py:170\u001b[0m, in \u001b[0;36mConnectionErrorHandler.__getattr__.<locals>.outer.<locals>.inner\u001b[0;34m(*args, **kwargs)\u001b[0m\n\u001b[1;32m    168\u001b[0m \u001b[38;5;28;01mdef\u001b[39;00m \u001b[38;5;21minner\u001b[39m(\u001b[38;5;241m*\u001b[39margs, \u001b[38;5;241m*\u001b[39m\u001b[38;5;241m*\u001b[39mkwargs):\n\u001b[1;32m    169\u001b[0m     \u001b[38;5;28;01mtry\u001b[39;00m:\n\u001b[0;32m--> 170\u001b[0m         \u001b[43mfunc\u001b[49m\u001b[43m(\u001b[49m\u001b[38;5;241;43m*\u001b[39;49m\u001b[43margs\u001b[49m\u001b[43m,\u001b[49m\u001b[43m \u001b[49m\u001b[38;5;241;43m*\u001b[39;49m\u001b[38;5;241;43m*\u001b[39;49m\u001b[43mkwargs\u001b[49m\u001b[43m)\u001b[49m\n\u001b[1;32m    171\u001b[0m     \u001b[38;5;28;01mexcept\u001b[39;00m (Neo4jError, ServiceUnavailable, SessionExpired) \u001b[38;5;28;01mas\u001b[39;00m exc:\n\u001b[1;32m    172\u001b[0m         \u001b[38;5;28mself\u001b[39m\u001b[38;5;241m.\u001b[39m__on_error(exc)\n",
      "File \u001b[0;32m~/anaconda3/envs/Python_full/lib/python3.9/site-packages/neo4j/io/_bolt4.py:309\u001b[0m, in \u001b[0;36mBolt4x0.fetch_message\u001b[0;34m(self)\u001b[0m\n\u001b[1;32m    307\u001b[0m \u001b[38;5;28mself\u001b[39m\u001b[38;5;241m.\u001b[39m_server_state_manager\u001b[38;5;241m.\u001b[39mstate \u001b[38;5;241m=\u001b[39m ServerStates\u001b[38;5;241m.\u001b[39mFAILED\n\u001b[1;32m    308\u001b[0m \u001b[38;5;28;01mtry\u001b[39;00m:\n\u001b[0;32m--> 309\u001b[0m     \u001b[43mresponse\u001b[49m\u001b[38;5;241;43m.\u001b[39;49m\u001b[43mon_failure\u001b[49m\u001b[43m(\u001b[49m\u001b[43msummary_metadata\u001b[49m\u001b[43m \u001b[49m\u001b[38;5;129;43;01mor\u001b[39;49;00m\u001b[43m \u001b[49m\u001b[43m{\u001b[49m\u001b[43m}\u001b[49m\u001b[43m)\u001b[49m\n\u001b[1;32m    310\u001b[0m \u001b[38;5;28;01mexcept\u001b[39;00m (ServiceUnavailable, DatabaseUnavailable):\n\u001b[1;32m    311\u001b[0m     \u001b[38;5;28;01mif\u001b[39;00m \u001b[38;5;28mself\u001b[39m\u001b[38;5;241m.\u001b[39mpool:\n",
      "File \u001b[0;32m~/anaconda3/envs/Python_full/lib/python3.9/site-packages/neo4j/io/_common.py:228\u001b[0m, in \u001b[0;36mResponse.on_failure\u001b[0;34m(self, metadata)\u001b[0m\n\u001b[1;32m    226\u001b[0m \u001b[38;5;28;01mif\u001b[39;00m callable(handler):\n\u001b[1;32m    227\u001b[0m     handler()\n\u001b[0;32m--> 228\u001b[0m \u001b[38;5;28;01mraise\u001b[39;00m Neo4jError\u001b[38;5;241m.\u001b[39mhydrate(\u001b[38;5;241m*\u001b[39m\u001b[38;5;241m*\u001b[39mmetadata)\n",
      "\u001b[0;31mCypherSyntaxError\u001b[0m: {code: Neo.ClientError.Statement.SyntaxError} {message: Invalid input '-': expected\n  \",\"\n  \"CALL\"\n  \"CREATE\"\n  \"DELETE\"\n  \"DETACH\"\n  \"FOREACH\"\n  \"LOAD\"\n  \"MATCH\"\n  \"MERGE\"\n  \"OPTIONAL\"\n  \"REMOVE\"\n  \"RETURN\"\n  \"SET\"\n  \"UNION\"\n  \"UNWIND\"\n  \"USE\"\n  \"USING\"\n  \"WHERE\"\n  \"WITH\"\n  <EOF> (line 1, column 18 (offset: 17))\n\"MATCH (t:Tienda) ->       [te:localizada_en] ->       (e.Estado)       CALL {with store       MATCH (t:Tienda) -       [tp: vende] ->       (p:Producto)       WHERE tp.INCUMPLIMIENTO = 'NO SE DETECTO INCUMPLIMIENTO'       RETURN count(p) as X}       RETURN e.Nombre_Estado,       sum(X) as Cantidad_Productos_Sin_Incumplimiento,       count(Tienda) as Cantidad_Tiendas,       toFloat(sum(X)/toFloat(count(Tienda))) as Ratio       ORDER BY Ratio\"\n                  ^}"
     ]
    }
   ],
   "source": [
    "result = session.run(c5)\n",
    "result\n",
    "res = split_variables(result)\n",
    "res"
   ]
  },
  {
   "cell_type": "code",
   "execution_count": null,
   "id": "67d82e87-4250-4e59-9a97-d67db887c642",
   "metadata": {},
   "outputs": [],
   "source": []
  }
 ],
 "metadata": {
  "kernelspec": {
   "display_name": "Python 3 (ipykernel)",
   "language": "python",
   "name": "python3"
  },
  "language_info": {
   "codemirror_mode": {
    "name": "ipython",
    "version": 3
   },
   "file_extension": ".py",
   "mimetype": "text/x-python",
   "name": "python",
   "nbconvert_exporter": "python",
   "pygments_lexer": "ipython3",
   "version": "3.9.11"
  }
 },
 "nbformat": 4,
 "nbformat_minor": 5
}

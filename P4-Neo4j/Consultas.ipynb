{
 "cells": [
  {
   "cell_type": "markdown",
   "id": "dfc6ac01-c1b8-4e9d-92c6-4285ad63c4c5",
   "metadata": {
    "tags": []
   },
   "source": [
    "# Práctica 4 - Neo4j\n",
    "## Consultas"
   ]
  },
  {
   "cell_type": "code",
   "execution_count": 2,
   "id": "294afeb0-ac7b-42bf-9a5a-4a488f9068f5",
   "metadata": {},
   "outputs": [],
   "source": [
    "from neo4j import GraphDatabase\n",
    "import pandas as pd"
   ]
  },
  {
   "cell_type": "markdown",
   "id": "1a6ab0cf-0989-4a47-860b-3da195abbb92",
   "metadata": {},
   "source": [
    "### Conexión"
   ]
  },
  {
   "cell_type": "code",
   "execution_count": 3,
   "id": "7bceac52-73ca-4804-8e01-a0197c88330c",
   "metadata": {},
   "outputs": [],
   "source": [
    "database_connection = GraphDatabase.driver(uri = \"bolt://localhost:7687\", auth=(\"neo4j\", \"neo5j\"))\n",
    "session = database_connection.session()  "
   ]
  },
  {
   "cell_type": "markdown",
   "id": "820a5e73-56d7-4191-bf37-ab5bad6f737a",
   "metadata": {},
   "source": [
    "### Definiciones auxiliares"
   ]
  },
  {
   "cell_type": "code",
   "execution_count": 4,
   "id": "5885b620-fe09-4418-92f4-41d7166955b9",
   "metadata": {},
   "outputs": [],
   "source": [
    "#Separando los resultados por variable\n",
    "\n",
    "def split_variables(resobj):\n",
    "    varlist = []\n",
    "    keys = resobj.keys()\n",
    "    data = resobj.data()\n",
    "    for idx, var in enumerate(keys):\n",
    "        #vardict = { keys[kidx] : var for kidx, var in enumerate(data) }\n",
    "        attriblist = [dct[var] for dct in data]\n",
    "        varlist.append(attriblist)\n",
    "        \n",
    "    vardict = { keys[kidx] : val for kidx, val in enumerate(varlist) }\n",
    "    return vardict"
   ]
  },
  {
   "cell_type": "code",
   "execution_count": 175,
   "id": "abbf6e03-5e43-4b47-a99a-5e904997025c",
   "metadata": {},
   "outputs": [
    {
     "data": {
      "text/plain": [
       "[{'Id_Cliente': 'c0'},\n",
       " {'Id_Cliente': 'c1'},\n",
       " {'Id_Cliente': 'c2'},\n",
       " {'Id_Cliente': 'c3'},\n",
       " {'Id_Cliente': 'c4'}]"
      ]
     },
     "execution_count": 175,
     "metadata": {},
     "output_type": "execute_result"
    }
   ],
   "source": [
    "# Prueba\n",
    "\n",
    "c0 = 'match (n) RETURN n'\n",
    "\n",
    "result = session.run(c0)\n",
    "res = split_variables(result)\n",
    "res['n'][:5]"
   ]
  },
  {
   "cell_type": "markdown",
   "id": "b390ab35-f431-4667-b514-9c58b1dfd377",
   "metadata": {},
   "source": [
    "### Consultas"
   ]
  },
  {
   "cell_type": "markdown",
   "id": "2e57ddc5-311b-4f94-956e-4da2fbb5de88",
   "metadata": {},
   "source": [
    "#### Consulta 1"
   ]
  },
  {
   "cell_type": "markdown",
   "id": "1875c139-66a4-4bcc-913b-5ea8d9ab4cdd",
   "metadata": {},
   "source": [
    "Dado un estado y un producto, buscar tiendas donde se pueda encontrar."
   ]
  },
  {
   "cell_type": "code",
   "execution_count": 179,
   "id": "e2571d6d-e87a-4bdf-a542-853d656af8a2",
   "metadata": {},
   "outputs": [
    {
     "data": {
      "text/plain": [
       "[{'Id_Tienda': '137t', 'Nombre_Tienda': 'TIENDAS SORIANA  S.A. DE C.V.'},\n",
       " {'Id_Tienda': '82t',\n",
       "  'Nombre_Tienda': 'SUSHITO - JUAN FERNANDO OROZCO CARDONA'},\n",
       " {'Id_Tienda': '74t', 'Nombre_Tienda': 'RESTAURANTE AUGUSTOÃ¯S S.A. DE C.V.'},\n",
       " {'Id_Tienda': '66t',\n",
       "  'Nombre_Tienda': 'WINGS AIR FORCE- FRANQUICIAS WINGS AIR FORCE  S. DE R.L. DE C.V.'},\n",
       " {'Id_Tienda': '65t', 'Nombre_Tienda': 'LA MANSION- RICHYCARLS  S.A. DE C.V.'}]"
      ]
     },
     "execution_count": 179,
     "metadata": {},
     "output_type": "execute_result"
    }
   ],
   "source": [
    "c1 = \"MATCH (p:productos {Tipo_Producto:'BRANDY'}) \\\n",
    "MATCH (e:estados {Nombre_Estado:'AGUASCALIENTES'}) \\\n",
    "MATCH (t:tiendas) \\\n",
    "MATCH (e) -[v]- (t) -- (p) \\\n",
    "RETURN t\"\n",
    "\n",
    "result = session.run(c1)\n",
    "res = split_variables(result)\n",
    "res['t'][:5]"
   ]
  },
  {
   "cell_type": "code",
   "execution_count": 180,
   "id": "bcf3dca7-9ccf-478c-85b2-132690df4c8a",
   "metadata": {},
   "outputs": [],
   "source": [
    "def consulta1(producto,estado,num_resultados):\n",
    "    s1 = \"MATCH (p:productos {Tipo_Producto :'\"+producto+\"'}) \"\n",
    "    s2 = \"MATCH (e:estados {Nombre_Estado:'\"+estado+\"'}) \"\n",
    "    s3 = \"MATCH (t:tiendas) \\\n",
    "MATCH (e) -[v]- (t) -- (p) \\\n",
    "RETURN t\"\n",
    "\n",
    "    c1 = s1+s2+s3\n",
    "    result = session.run(c1)\n",
    "    res = split_variables(result)\n",
    "    if len(res['t']) > num_resultados:\n",
    "        #print(res['t'][:num_resultados])\n",
    "        return list(map((lambda dct : dct['Nombre_Tienda']), res['t'][:num_resultados]))\n",
    "    else:\n",
    "        #print(res['t'])\n",
    "        return list(map((lambda dct : dct['Nombre_Tienda']), res['t']))   "
   ]
  },
  {
   "cell_type": "code",
   "execution_count": 213,
   "id": "ee1fae68-9297-42ce-a9eb-841b19c91db6",
   "metadata": {},
   "outputs": [
    {
     "name": "stdout",
     "output_type": "stream",
     "text": [
      "Tiendas donde se puede encontrar BRANDY en AGUASCALIENTES: \n",
      "\n",
      "TIENDAS SORIANA  S.A. DE C.V.\n",
      "SUSHITO - JUAN FERNANDO OROZCO CARDONA\n",
      "RESTAURANTE AUGUSTOÃ¯S S.A. DE C.V.\n",
      "WINGS AIR FORCE- FRANQUICIAS WINGS AIR FORCE  S. DE R.L. DE C.V.\n",
      "LA MANSION- RICHYCARLS  S.A. DE C.V.\n"
     ]
    }
   ],
   "source": [
    "producto = 'BRANDY'\n",
    "estado = 'AGUASCALIENTES'\n",
    "\n",
    "out = consulta1(producto, estado, 5)\n",
    "\n",
    "print(f\"Tiendas donde se puede encontrar {producto} en {estado}: \\n\")\n",
    "\n",
    "for elem in out:\n",
    "    print(elem)"
   ]
  },
  {
   "cell_type": "markdown",
   "id": "100a8a95-b9e4-44d2-9377-821d7765cb12",
   "metadata": {},
   "source": [
    "#### Consulta 2"
   ]
  },
  {
   "cell_type": "markdown",
   "id": "329c002c-be37-473e-8c9b-c65890532215",
   "metadata": {},
   "source": [
    "Dado un estado y una tienda, revisar si existen incumplimientos en sus productos."
   ]
  },
  {
   "cell_type": "code",
   "execution_count": 186,
   "id": "5e1b9733-cde1-46bd-a91c-4271cf63ebe7",
   "metadata": {},
   "outputs": [
    {
     "data": {
      "text/plain": [
       "{'e': [{'Nombre_Estado': 'BAJA CALIFORNIA', 'Id_Estado': 'BAJA CALIFORNIA'}],\n",
       " 't': [{'Id_Tienda': '139t', 'Nombre_Tienda': 'CARNE MART SUCURSAL TECATE'}],\n",
       " 'p': [{'Id_Producto': '43p', 'Tipo_Producto': 'PRODUCTOS ALIMENTICIOS'}],\n",
       " 'v.incumplimiento': ['NO SE DETECTO INCUMPLIMIENTO']}"
      ]
     },
     "execution_count": 186,
     "metadata": {},
     "output_type": "execute_result"
    }
   ],
   "source": [
    "c2 = \"MATCH (e:estados {Nombre_Estado :'BAJA CALIFORNIA'}) \\\n",
    "MATCH (t:tiendas {Nombre_Tienda: 'CARNE MART SUCURSAL TECATE'}) \\\n",
    "MATCH (p:productos) \\\n",
    "MATCH (e) -- (t) -[v]- (p) \\\n",
    "RETURN e, t, p, v.incumplimiento\"\n",
    "\n",
    "result = session.run(c2)\n",
    "res = split_variables(result)\n",
    "res"
   ]
  },
  {
   "cell_type": "code",
   "execution_count": 196,
   "id": "9bcece1a-18dc-4050-9d33-916bca014a45",
   "metadata": {},
   "outputs": [],
   "source": [
    "def consulta2(estado,tienda):\n",
    "    s1 = \"MATCH (e:estados {Nombre_Estado :'\"+estado+\"'}) \"\n",
    "    s2 = \"MATCH (t:tiendas {Nombre_Tienda: '\"+tienda+\"'}) \"\n",
    "    s3 = \"MATCH (p:productos) \\\n",
    "MATCH (e) -- (t) -[v]- (p) \\\n",
    "RETURN e, t, p, v.incumplimiento\"\n",
    "    c2 = s1+s2+s3\n",
    "\n",
    "    result = session.run(c2)\n",
    "    res = split_variables(result)\n",
    "    prod = list(map(lambda dct : dct['Tipo_Producto'], res['p']))\n",
    "    return prod, res['v.incumplimiento']"
   ]
  },
  {
   "cell_type": "code",
   "execution_count": 215,
   "id": "fe025cd7-3c20-43f0-9e75-855b035cd7b4",
   "metadata": {},
   "outputs": [
    {
     "name": "stdout",
     "output_type": "stream",
     "text": [
      "Para la tienda CARNE MART SUCURSAL TECATE en el estado de BAJA CALIFORNIA:\n",
      "\n",
      "                Producto                 |        Incumplimientos        \n",
      "PRODUCTOS ALIMENTICIOS                   | NO SE DETECTO INCUMPLIMIENTO  \n"
     ]
    }
   ],
   "source": [
    "estado = 'BAJA CALIFORNIA'\n",
    "tienda = 'CARNE MART SUCURSAL TECATE'\n",
    "\n",
    "out = consulta2(estado, tienda)\n",
    "\n",
    "print(f\"Para la tienda {tienda} en el estado de {estado}:\\n\")\n",
    "\n",
    "print(f\"{'Producto':^40} | {'Incumplimientos':^30}\")\n",
    "for idx in range(len(out[0])):\n",
    "    print(f\"{out[0][idx]:<40} | {out[1][idx]:<30}\")"
   ]
  },
  {
   "cell_type": "markdown",
   "id": "6cf20294-8115-4579-9dc1-4915764e6f29",
   "metadata": {},
   "source": [
    "#### Consulta 3"
   ]
  },
  {
   "cell_type": "markdown",
   "id": "fdb619aa-88bb-402e-a623-df2e6931f307",
   "metadata": {},
   "source": [
    "Dado un estado y un producto, buscar alternativas que no tengan incumplimientos."
   ]
  },
  {
   "cell_type": "code",
   "execution_count": 210,
   "id": "4fd0408e-3719-44ad-8213-ff733c2dafd0",
   "metadata": {},
   "outputs": [
    {
     "data": {
      "text/plain": [
       "{'e': [{'Nombre_Estado': 'BAJA CALIFORNIA', 'Id_Estado': 'BAJA CALIFORNIA'},\n",
       "  {'Nombre_Estado': 'BAJA CALIFORNIA', 'Id_Estado': 'BAJA CALIFORNIA'}],\n",
       " 'p': [{'Id_Producto': '2p', 'Tipo_Producto': 'BRANDY'},\n",
       "  {'Id_Producto': '2p', 'Tipo_Producto': 'BRANDY'}],\n",
       " 't': [{'Id_Tienda': '137t', 'Nombre_Tienda': 'TIENDAS SORIANA  S.A. DE C.V.'},\n",
       "  {'Id_Tienda': '1692t', 'Nombre_Tienda': '7 ELEVEN MEXICO  S.A. DE C.V.'}],\n",
       " 'v.incumplimiento': ['NO SE DETECTO INCUMPLIMIENTO',\n",
       "  'NO SE DETECTO INCUMPLIMIENTO']}"
      ]
     },
     "execution_count": 210,
     "metadata": {},
     "output_type": "execute_result"
    }
   ],
   "source": [
    "c3 = \"MATCH (e:estados {Nombre_Estado :'BAJA CALIFORNIA'}) \\\n",
    "MATCH (p:productos {Tipo_Producto:'BRANDY'}) \\\n",
    "MATCH (t:tiendas) \\\n",
    "MATCH (e) -- (t) -[v {incumplimiento : 'NO SE DETECTO INCUMPLIMIENTO'}]- (p) \\\n",
    "RETURN e, p, t, v.incumplimiento\"\n",
    "\n",
    "result = session.run(c3)\n",
    "res = split_variables(result)\n",
    "res"
   ]
  },
  {
   "cell_type": "code",
   "execution_count": 216,
   "id": "46d7e838-e740-4f5c-80b2-fa35148d6c60",
   "metadata": {},
   "outputs": [],
   "source": [
    "def consulta3(estado,producto):\n",
    "    s1 = \"MATCH (e:estados {Nombre_Estado :'\"+estado+\"'}) \"\n",
    "    s2 = \"MATCH (p:productos {Tipo_Producto:'\"+producto+\"'}) \"\n",
    "    s3 = \"MATCH (t:tiendas) \\\n",
    "MATCH (e) -- (t) -[v {incumplimiento : 'NO SE DETECTO INCUMPLIMIENTO'}]- (p) \\\n",
    "RETURN e, p, t, v.incumplimiento\"\n",
    "\n",
    "    c3 = s1+s2+s3\n",
    "\n",
    "    result = session.run(c3)\n",
    "    res = split_variables(result)\n",
    "    return list(map(lambda dct : dct['Nombre_Tienda'], res['t']))"
   ]
  },
  {
   "cell_type": "code",
   "execution_count": 219,
   "id": "6a86b068-134a-4826-b69f-4a091e26ea6c",
   "metadata": {},
   "outputs": [
    {
     "name": "stdout",
     "output_type": "stream",
     "text": [
      "Tiendas en BAJA CALIFORNIA que no tienen incumplimientos del producto BRANDY: \n",
      "\n",
      "TIENDAS SORIANA  S.A. DE C.V.\n",
      "7 ELEVEN MEXICO  S.A. DE C.V.\n"
     ]
    }
   ],
   "source": [
    "estado = 'BAJA CALIFORNIA'\n",
    "producto = 'BRANDY'\n",
    "\n",
    "out = consulta3(estado, producto)\n",
    "\n",
    "print(f'Tiendas en {estado} que no tienen incumplimientos del producto {producto}: \\n')\n",
    "for elem in out:\n",
    "    print(elem)"
   ]
  },
  {
   "cell_type": "code",
   "execution_count": null,
   "id": "589bffa0-8538-4179-9214-b243546d6393",
   "metadata": {},
   "outputs": [],
   "source": []
  }
 ],
 "metadata": {
  "kernelspec": {
   "display_name": "Python 3 (ipykernel)",
   "language": "python",
   "name": "python3"
  },
  "language_info": {
   "codemirror_mode": {
    "name": "ipython",
    "version": 3
   },
   "file_extension": ".py",
   "mimetype": "text/x-python",
   "name": "python",
   "nbconvert_exporter": "python",
   "pygments_lexer": "ipython3",
   "version": "3.9.11"
  }
 },
 "nbformat": 4,
 "nbformat_minor": 5
}

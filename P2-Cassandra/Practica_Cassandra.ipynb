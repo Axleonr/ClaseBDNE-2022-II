{
 "cells": [
  {
   "cell_type": "markdown",
   "metadata": {},
   "source": [
    "# Practica de Cassandra\n",
    "# Acosta Imandt Daniel\n",
    "# Garduño Martínez Eduardo\n",
    "# León Rosas Manuel Alejandro"
   ]
  },
  {
   "cell_type": "code",
   "execution_count": 10,
   "metadata": {},
   "outputs": [
    {
     "name": "stdout",
     "output_type": "stream",
     "text": [
      "Requirement already satisfied: cassandra-driver in /home/eduardo/anaconda3/lib/python3.9/site-packages (3.25.0)\n",
      "Requirement already satisfied: geomet<0.3,>=0.1 in /home/eduardo/anaconda3/lib/python3.9/site-packages (from cassandra-driver) (0.2.1.post1)\n",
      "Requirement already satisfied: six>=1.9 in /home/eduardo/anaconda3/lib/python3.9/site-packages (from cassandra-driver) (1.16.0)\n",
      "Requirement already satisfied: click in /home/eduardo/anaconda3/lib/python3.9/site-packages (from geomet<0.3,>=0.1->cassandra-driver) (8.0.3)\n"
     ]
    }
   ],
   "source": [
    "!pip install cassandra-driver"
   ]
  },
  {
   "cell_type": "code",
   "execution_count": 30,
   "metadata": {},
   "outputs": [],
   "source": [
    "from cassandra.cluster import Cluster"
   ]
  },
  {
   "cell_type": "code",
   "execution_count": 31,
   "metadata": {},
   "outputs": [],
   "source": [
    "def id_persona_f(cliente):\n",
    "    cliente = cliente.replace(\"'\",'')\n",
    "    b = cliente.split(' ')\n",
    "    b = [j.capitalize() for j in b]\n",
    "    b = b[0:2]\n",
    "    c = b[0][0:3]+b[1][0:3]\n",
    "    c = \"'\" + c + \"'\"\n",
    "    return c"
   ]
  },
  {
   "cell_type": "markdown",
   "metadata": {},
   "source": [
    "## Conexion con la Base"
   ]
  },
  {
   "cell_type": "code",
   "execution_count": 32,
   "metadata": {},
   "outputs": [],
   "source": [
    "cluster = Cluster(['127.0.0.1'],port=9042)"
   ]
  },
  {
   "cell_type": "code",
   "execution_count": 33,
   "metadata": {},
   "outputs": [],
   "source": [
    "session = cluster.connect()"
   ]
  },
  {
   "cell_type": "markdown",
   "metadata": {},
   "source": [
    "## Creacion del keyspace"
   ]
  },
  {
   "cell_type": "code",
   "execution_count": 34,
   "metadata": {},
   "outputs": [
    {
     "data": {
      "text/plain": [
       "<cassandra.cluster.ResultSet at 0x7f84d890dcd0>"
      ]
     },
     "execution_count": 34,
     "metadata": {},
     "output_type": "execute_result"
    }
   ],
   "source": [
    "session.execute(\"CREATE KEYSPACE IF NOT EXISTS libreria \\\n",
    "WITH REPLICATION = {'class' : 'SimpleStrategy','replication_factor':1}\")"
   ]
  },
  {
   "cell_type": "code",
   "execution_count": 35,
   "metadata": {},
   "outputs": [],
   "source": [
    "session2 = cluster.connect('libreria')"
   ]
  },
  {
   "cell_type": "markdown",
   "metadata": {},
   "source": [
    "## Creacion de la base de datos"
   ]
  },
  {
   "cell_type": "code",
   "execution_count": 36,
   "metadata": {},
   "outputs": [],
   "source": [
    "id_libro = [\"'HarryPotter'\",\"'OneShot'\",\"'OnTheRoad'\",\"'ThePillarsOfTheEarth'\",\"'100AñosDeSoledad'\",\"'LaCasaDeBernarda'\",\"'UnaEducacion'\",\"'DoAndroidsDreamOfElectricSheep?'\",\"'SoloQuedoNuestraHistoria'\"]\n",
    "titulo = [\"'Harry Potter'\",\"'One Shot'\",\"'On The Road'\",\"'The Pillars Of The Earth'\",\"'100 Años De Soledad'\",\"'La Casa De Bernarda'\",\"'Una Educacion'\",\"'Do Androids Dream Of Electric Sheep?'\",\"'Solo Quedo Nuestra Historia'\"]\n",
    "categoria = [\"'Fantasia'\",\"'Suspenso'\",\"'Novela'\",\"'Novela'\",\"'Realismo Magico'\",\"'Teatro'\",\"'Autobiografia'\",\"'Ciencia Ficcion'\",\"'Novela'\"]\n",
    "id_persona = [\"'YeuLar'\",\"'EduGar'\",\"'FerAvi'\",\"'EdgCal'\",\"'DanFra'\",\"'EnrGom'\",\"'HugRan'\",\"'EnrGom'\",\"'HugRan'\"]\n",
    "nombre_persona= [\"'Yeudiel Lara'\",\"'Eduardo Garduño'\",\"'Fernando Avitua'\",\"'Edgar Callejas'\",\"'Daniel Fragoso'\",\"'Enrique Gomez'\",\"'Hugo Rangel'\",\"'Enrique Gomez'\",\"'Hugo Rangel'\"]\n",
    "pais = [\"'Mexico'\" for _ in range(9)]\n",
    "membresia = [\"'Platino'\",\"'Oro'\",\"'Regular'\",\"'Regular'\",\"'Oro'\",\"'Platino'\",\"'Platino'\",\"'Platino'\",\"'Platino'\"]\n",
    "calificacion = [5,5,5,4,5,5,5,4,3]"
   ]
  },
  {
   "cell_type": "code",
   "execution_count": 37,
   "metadata": {},
   "outputs": [],
   "source": [
    "id_libro2 = [\"'ElTapizAmarillo'\",\"'LazarilloDeTormes'\",\"'LaCancionDeAquiles'\",\"'DoñaPerfecta'\",\"'LaMetamorfosis'\",\"'Erecciones,Eyaculaciones,Exhibiciones'\",\"'UnMundoFeliz'\",\"'EndersGame'\",\"'PedroParamo'\",\"'TravesurasDeLaNiñaMala'\"]\n",
    "titulo2 = [\"'El Tapiz Amarillo'\",\"'Lazarillo De Tormes'\",\"'La Cancion De Aquiles'\",\"'Doña Perfecta'\",\"'La Metamorfosis'\",\"'Erecciones, Eyaculaciones, Exhibiciones'\",\"'Un Mundo Feliz'\",\"'Enders Game'\",\"'Pedro Paramo'\",\"'Travesuras De La Niña Mala'\"]\n",
    "categoria2 = [\"'Cuento'\",\"'Novela'\",\"'Novela'\",\"'Novela'\",\"'Cuento'\",\"'Cuento'\",\"'Ciencia Ficcion'\",\"'Novela'\",\"'Novela'\",\"'Novela'\"]\n",
    "id_persona2 = [\"'HugRan'\",\"'EnrGom'\",\"'DanFra'\",\"'EnrGom'\",\"'HugRan'\",\"'EnrGom'\",\"'EnrGom'\",\"'EnrGom'\",\"'DanFra'\",\"'EnrGom'\"]\n",
    "nombre_persona2 = [\"'Hugo Rangel'\",\"'Enrique Gomez'\",\"'Daniel Fragoso'\",\"'Enrique Gomez'\",\"'Hugo Rangel'\",\"'Enrique Gomez'\",\"'Enrique Gomez'\",\"'Enrique Gomez'\",\"'Daniel Fragoso'\",\"'Enrique Gomez'\"]\n",
    "membresia2 = [\"'Platino'\",\"'Platino'\",\"'Oro'\",\"'Platino'\",\"'Platino'\",\"'Platino'\",\"'Platino'\",\"'Platino'\",\"'Oro'\",\"'Platino'\"]\n",
    "calificacion2 = [4,1,5,4,4,4,5,3,3,5]\n",
    "pais2 = [\"'Mexico'\" for _ in range(10)]"
   ]
  },
  {
   "cell_type": "code",
   "execution_count": 38,
   "metadata": {},
   "outputs": [],
   "source": [
    "titulo3 = [\"'La Cancion De Aquiles'\",\"'El Periquillo De Sarniento'\",\"'Exhalation'\",\"'1Q84'\",\"'El Coronel No Tiene Quien Le Escriba'\",\"'El Señor De Las Moscas'\",\"'La Maquina Del Tiempo'\",\"'La Guerra De Los Mundos'\",\"'Bajo La Rueda'\",\"'Siddharta'\"]\n",
    "id_libro3 = [j.replace(' ','') for j in titulo3]\n",
    "categoria3 = [\"'Novela'\",\"'Novela'\",\"'Cuento'\",\"'Novela'\",\"'Novela'\",\"'Novela'\",\"'Ciencia Ficcion'\",\"'Ciencia Ficcion'\",\"'Novela'\",\"'Novela'\"]\n",
    "nombre_persona3 = [\"'Hugo Rangel'\",\"'Enrique Gomez'\",\"'Fernando Avitua'\",\"'Guillermo Gerardo'\",\"'Guillermo Gerardo'\",\"'Guillermo Gerardo'\",\"'Guillermo Gerardo'\",\"'Guillermo Gerardo'\",\"'Fernando Santarita'\",\"'Fernando Santarita'\"]\n",
    "id_persona3 = [id_persona_f(j) for j in nombre_persona3]\n",
    "membresia3 = [\"'Platino'\",\"'Platino'\",\"'Regular'\",\"'Regular'\",\"'Regular'\",\"'Regular'\",\"'Regular'\",\"'Regular'\",\"'Regular'\",\"'Regular'\"]\n",
    "calificacion3 = [4,2,4,5,4,4,4,4,4,5]"
   ]
  },
  {
   "cell_type": "code",
   "execution_count": 39,
   "metadata": {},
   "outputs": [],
   "source": [
    "titulo4 = [\"'El Lobo Estepario'\",\"'One Shot'\",\"'El Periquillo De Sarniento'\",\"'Rayuela'\",\"'Crimen Y Castigo'\",\"'Fenomenologia Del Espiritu'\",\"'Ulises'\",\"'Siddharta'\",\"'Un Mundo Feliz'\",\"'The Catcher In The Rye'\"]\n",
    "id_libro4 = [j.replace(' ','') for j in titulo4]\n",
    "categoria4 = [\"'Novela'\",\"'Suspenso'\",\"'Novela'\",\"'Novela'\",\"'Novela'\",\"'Ensayo'\",\"'Novela'\",\"'Novela'\",\"'Ciencia Ficcion'\",\"'Novela'\"]\n",
    "nombre_persona4 = [\"'Fernando Santarita'\",\"'Fernando Santarita'\",\"'Fernando Santarita'\",\"'Luis Ariel'\",\"'Luis Ariel'\",\"'Luis Ariel'\",\"'Luis Ariel'\",\"'Fernando Avitua'\",\"'Fernando Avitua'\",\"'Luis Ariel'\"]\n",
    "id_persona4 = [id_persona_f(j) for j in nombre_persona4]\n",
    "membresia4 = [\"'Regular'\" for _ in range(10)]\n",
    "calificacion4 = [5,4,4,5,4,4,4,3,4,5]"
   ]
  },
  {
   "cell_type": "code",
   "execution_count": 40,
   "metadata": {},
   "outputs": [],
   "source": [
    "titulos = [titulo,titulo2,titulo3,titulo4]\n",
    "paises = [pais,pais2,pais2,pais2]\n",
    "id_libros = [id_libro,id_libro2,id_libro3,id_libro4]\n",
    "id_personas = [id_persona,id_persona2,id_persona3,id_persona4]\n",
    "categorias = [categoria,categoria2,categoria3,categoria4]\n",
    "nombre_personas = [nombre_persona,nombre_persona2,nombre_persona3,nombre_persona4]\n",
    "membresias = [membresia,membresia2,membresia3,membresia4]\n",
    "calificaciones = [calificacion,calificacion2,calificacion3,calificacion4]"
   ]
  },
  {
   "cell_type": "code",
   "execution_count": 41,
   "metadata": {},
   "outputs": [
    {
     "ename": "AlreadyExists",
     "evalue": "Table 'libreria.libros_por_persona' already exists",
     "output_type": "error",
     "traceback": [
      "\u001b[0;31m---------------------------------------------------------------------------\u001b[0m",
      "\u001b[0;31mAlreadyExists\u001b[0m                             Traceback (most recent call last)",
      "Input \u001b[0;32mIn [41]\u001b[0m, in \u001b[0;36m<cell line: 1>\u001b[0;34m()\u001b[0m\n\u001b[0;32m----> 1\u001b[0m \u001b[43msession2\u001b[49m\u001b[38;5;241;43m.\u001b[39;49m\u001b[43mexecute\u001b[49m\u001b[43m(\u001b[49m\u001b[38;5;124;43m\"\u001b[39;49m\u001b[38;5;124;43mCREATE TABLE libros_por_persona \u001b[39;49m\u001b[38;5;130;43;01m\\\u001b[39;49;00m\n\u001b[1;32m      2\u001b[0m \u001b[38;5;124;43m(id_libro text, \u001b[39;49m\u001b[38;5;130;43;01m\\\u001b[39;49;00m\n\u001b[1;32m      3\u001b[0m \u001b[38;5;124;43mtitulo text, \u001b[39;49m\u001b[38;5;130;43;01m\\\u001b[39;49;00m\n\u001b[1;32m      4\u001b[0m \u001b[38;5;124;43mcategoria text, \u001b[39;49m\u001b[38;5;130;43;01m\\\u001b[39;49;00m\n\u001b[1;32m      5\u001b[0m \u001b[38;5;124;43mid_persona text, \u001b[39;49m\u001b[38;5;130;43;01m\\\u001b[39;49;00m\n\u001b[1;32m      6\u001b[0m \u001b[38;5;124;43mnombre_persona text STATIC, \u001b[39;49m\u001b[38;5;130;43;01m\\\u001b[39;49;00m\n\u001b[1;32m      7\u001b[0m \u001b[38;5;124;43mpais text STATIC, \u001b[39;49m\u001b[38;5;130;43;01m\\\u001b[39;49;00m\n\u001b[1;32m      8\u001b[0m \u001b[38;5;124;43mmembresia text STATIC, \u001b[39;49m\u001b[38;5;130;43;01m\\\u001b[39;49;00m\n\u001b[1;32m      9\u001b[0m \u001b[38;5;124;43mcalificacion int, \u001b[39;49m\u001b[38;5;130;43;01m\\\u001b[39;49;00m\n\u001b[1;32m     10\u001b[0m \u001b[38;5;124;43mPRIMARY KEY (id_persona,categoria,calificacion));\u001b[39;49m\u001b[38;5;124;43m\"\u001b[39;49m\u001b[43m)\u001b[49m\n",
      "File \u001b[0;32m~/anaconda3/envs/Python_full/lib/python3.9/site-packages/cassandra/cluster.py:2618\u001b[0m, in \u001b[0;36mcassandra.cluster.Session.execute\u001b[0;34m()\u001b[0m\n",
      "File \u001b[0;32m~/anaconda3/envs/Python_full/lib/python3.9/site-packages/cassandra/cluster.py:4894\u001b[0m, in \u001b[0;36mcassandra.cluster.ResponseFuture.result\u001b[0;34m()\u001b[0m\n",
      "\u001b[0;31mAlreadyExists\u001b[0m: Table 'libreria.libros_por_persona' already exists"
     ]
    }
   ],
   "source": [
    "session2.execute(\"CREATE TABLE libros_por_persona \\\n",
    "(id_libro text, \\\n",
    "titulo text, \\\n",
    "categoria text, \\\n",
    "id_persona text, \\\n",
    "nombre_persona text STATIC, \\\n",
    "pais text STATIC, \\\n",
    "membresia text STATIC, \\\n",
    "calificacion int, \\\n",
    "PRIMARY KEY (id_persona,categoria,calificacion));\")"
   ]
  },
  {
   "cell_type": "code",
   "execution_count": 19,
   "metadata": {},
   "outputs": [
    {
     "data": {
      "text/plain": [
       "<cassandra.cluster.ResultSet at 0x7f84d87e06a0>"
      ]
     },
     "execution_count": 19,
     "metadata": {},
     "output_type": "execute_result"
    }
   ],
   "source": [
    "session2.execute(\"CREATE TABLE personas_gustaron_libro \\\n",
    "(id_libro text, \\\n",
    "nombre_persona text, \\\n",
    "calificacion int, \\\n",
    "PRIMARY KEY (id_libro,calificacion));\")"
   ]
  },
  {
   "cell_type": "code",
   "execution_count": 20,
   "metadata": {},
   "outputs": [
    {
     "data": {
      "text/plain": [
       "<cassandra.cluster.ResultSet at 0x7f84d89b49d0>"
      ]
     },
     "execution_count": 20,
     "metadata": {},
     "output_type": "execute_result"
    }
   ],
   "source": [
    "session2.execute(\"CREATE TABLE mejores_libros_categoria \\\n",
    "(titulo text, \\\n",
    "categoria text, \\\n",
    "calificacion int, \\\n",
    "PRIMARY KEY (categoria,calificacion));\")"
   ]
  },
  {
   "cell_type": "markdown",
   "metadata": {},
   "source": [
    "## Carga de los datos"
   ]
  },
  {
   "cell_type": "code",
   "execution_count": 42,
   "metadata": {},
   "outputs": [],
   "source": [
    "for i,c in enumerate(titulos):\n",
    "    for j in range(len(c)):\n",
    "        expresion = \"INSERT INTO libros_por_persona (id_libro, titulo, categoria, id_persona, nombre_persona, pais, membresia, calificacion) VALUES\" + \"(\" + id_libros[i][j] + \",\" + titulos[i][j] + \",\" + categorias[i][j] + \",\" +id_personas[i][j]+ \",\" +nombre_personas[i][j]+ \",\" +paises[i][j]+ \",\" + membresias[i][j]+ \",\" + str(calificaciones[i][j]) + \");\"\n",
    "        session2.execute(expresion)\n",
    "\n"
   ]
  },
  {
   "cell_type": "code",
   "execution_count": 43,
   "metadata": {},
   "outputs": [],
   "source": [
    "for i,c in enumerate(titulos):\n",
    "    for j in range(len(c)):\n",
    "        expresion = \"INSERT INTO personas_gustaron_libro (id_libro,nombre_persona,calificacion) VALUES\" + \"(\" + id_libros[i][j] + \",\" + nombre_personas[i][j] + \",\" + str(calificaciones[i][j]) + \");\"\n",
    "        session2.execute(expresion)"
   ]
  },
  {
   "cell_type": "code",
   "execution_count": 44,
   "metadata": {},
   "outputs": [],
   "source": [
    "for i,c in enumerate(titulos):\n",
    "    for j in range(len(c)):\n",
    "        expresion = \"INSERT INTO mejores_libros_categoria (titulo, categoria, calificacion) VALUES\" + \"(\" + titulos[i][j] + \",\" + categorias[i][j] + \",\" + str(calificaciones[i][j]) + \");\"\n",
    "        session2.execute(expresion)"
   ]
  },
  {
   "cell_type": "markdown",
   "metadata": {},
   "source": [
    "## Consultas"
   ]
  },
  {
   "cell_type": "code",
   "execution_count": 167,
   "metadata": {},
   "outputs": [],
   "source": [
    "def categoria_preferida(cliente):\n",
    "    b = cliente.split(' ')\n",
    "    b = [j.capitalize() for j in b]\n",
    "    b = b[0:2]\n",
    "    c = b[0][0:3]+b[1][0:3]\n",
    "    consulta = \"SELECT categoria, count(categoria) As frecuencia FROM libros_por_persona WHERE id_persona=\" + \"'\" + c + \"'\" +\" GROUP BY categoria;\"\n",
    "    a = session2.execute(consulta)\n",
    "    topspots = 3\n",
    "    freq = []\n",
    "    for j in a:\n",
    "        freq.append((j.frecuencia, j.categoria))\n",
    "\n",
    "    freq = sorted(freq,reverse = True)\n",
    "\n",
    "    print('Categoría: Frecuencia')\n",
    "    spotsleft = 0\n",
    "    for row in freq:\n",
    "        print(row[1] + \": \" + repr(row[0]))\n",
    "        spotsleft += 1\n",
    "        if spotsleft >= topspots:\n",
    "            break"
   ]
  },
  {
   "cell_type": "code",
   "execution_count": 170,
   "metadata": {},
   "outputs": [
    {
     "name": "stdout",
     "output_type": "stream",
     "text": [
      "Categoría: Frecuencia\n",
      "Novela: 5\n",
      "Ciencia Ficcion: 2\n",
      "Teatro: 1\n"
     ]
    }
   ],
   "source": [
    "categoria_preferida('Enrique Gomez')"
   ]
  },
  {
   "cell_type": "code",
   "execution_count": 47,
   "metadata": {},
   "outputs": [],
   "source": [
    "def clientes_libro(libro):\n",
    "    libro = libro.replace(' ','')\n",
    "    consulta = \"SELECT nombre_persona FROM personas_gustaron_libro WHERE id_libro=\" + \"'\" + libro + \"'\" + \" ORDER BY calificacion DESC LIMIT 3;\"\n",
    "    a = session2.execute(consulta)\n",
    "    for j in a:\n",
    "        print(j)"
   ]
  },
  {
   "cell_type": "code",
   "execution_count": 48,
   "metadata": {},
   "outputs": [
    {
     "name": "stdout",
     "output_type": "stream",
     "text": [
      "Row(nombre_persona='Enrique Gomez')\n",
      "Row(nombre_persona='Fernando Avitua')\n"
     ]
    }
   ],
   "source": [
    "clientes_libro('Un Mundo Feliz')"
   ]
  },
  {
   "cell_type": "code",
   "execution_count": 49,
   "metadata": {},
   "outputs": [],
   "source": [
    "def mejores_libros(categoria):\n",
    "    consulta = \"SELECT titulo FROM mejores_libros_categoria WHERE categoria=\" + \"'\" + categoria + \"'\" + \" ORDER BY calificacion DESC LIMIT 3;\"\n",
    "    a = session2.execute(consulta)\n",
    "    for j in a:\n",
    "        print(j)"
   ]
  },
  {
   "cell_type": "code",
   "execution_count": 50,
   "metadata": {},
   "outputs": [
    {
     "name": "stdout",
     "output_type": "stream",
     "text": [
      "Row(titulo='The Catcher In The Rye')\n",
      "Row(titulo='Ulises')\n",
      "Row(titulo='Siddharta')\n"
     ]
    }
   ],
   "source": [
    "mejores_libros('Novela')"
   ]
  },
  {
   "cell_type": "code",
   "execution_count": null,
   "metadata": {},
   "outputs": [],
   "source": []
  }
 ],
 "metadata": {
  "interpreter": {
   "hash": "c5abe1dd6f168b4f5e67de02cffc00ce8cef82ade2b382edc6fecc892b15c5a1"
  },
  "kernelspec": {
   "display_name": "Python 3 (ipykernel)",
   "language": "python",
   "name": "python3"
  },
  "language_info": {
   "codemirror_mode": {
    "name": "ipython",
    "version": 3
   },
   "file_extension": ".py",
   "mimetype": "text/x-python",
   "name": "python",
   "nbconvert_exporter": "python",
   "pygments_lexer": "ipython3",
   "version": "3.9.11"
  }
 },
 "nbformat": 4,
 "nbformat_minor": 4
}

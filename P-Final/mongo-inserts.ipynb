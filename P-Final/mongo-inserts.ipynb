{
 "cells": [
  {
   "cell_type": "code",
   "execution_count": 2,
   "id": "bfb084ba-2b35-4e24-be57-3bc04dd201ea",
   "metadata": {},
   "outputs": [],
   "source": [
    "import pandas as pd\n",
    "import pymongo"
   ]
  },
  {
   "cell_type": "code",
   "execution_count": 3,
   "id": "8efe42b7-6c87-4285-8047-c40a95c9a9e8",
   "metadata": {},
   "outputs": [],
   "source": [
    "client=pymongo.MongoClient('mongodb://127.0.0.1:27017/')\n",
    "mydb = client['Practica4']\n",
    "table = mydb[\"tabla_peliculas\"]"
   ]
  },
  {
   "cell_type": "code",
   "execution_count": 7,
   "id": "e7f4a465-92c6-4438-b78b-b9f1cac8c441",
   "metadata": {},
   "outputs": [],
   "source": [
    "titles_raw = pd.read_csv(\"./data/titles.csv\")\n",
    "titles_raw.set_axis([\"id_pelicula\",\"título\",\"tipo\",\"descripción\",\"año_creación\",\"clasificación\",\"duración\",\"generos\",\"pais/es productores\",\"temporadas\",\"id_imdb\",\"calificación_imdb\",\"votos_imdb\",\"popularidad_tmdb\",\"score_tmdb\"],axis=1,inplace=True)\n",
    "#titles_raw"
   ]
  },
  {
   "cell_type": "code",
   "execution_count": 9,
   "id": "4d84f975-4f27-4953-8e81-ab781de80015",
   "metadata": {},
   "outputs": [],
   "source": [
    "titles_mongo = titles_raw[['id_pelicula', 'título', 'descripción', 'año_creación',\n",
    "       'clasificación', 'duración', 'generos', 'pais/es productores',\n",
    "       'temporadas', 'id_imdb', 'calificación_imdb', 'votos_imdb',\n",
    "       'popularidad_tmdb', 'score_tmdb']]\n",
    "#titles_mongo.head()"
   ]
  },
  {
   "cell_type": "code",
   "execution_count": 10,
   "id": "5c23bd93-d633-4df3-b5b4-a5f9cc93649b",
   "metadata": {},
   "outputs": [],
   "source": [
    "information = mydb.tabla_peliculas\n",
    "result1 = titles_mongo.to_dict(orient=\"records\")\n",
    "information.insert_many(result1)\n",
    "result1 = None"
   ]
  },
  {
   "cell_type": "code",
   "execution_count": null,
   "id": "a0ca33d5-343c-4c7d-9b0a-c21192655db3",
   "metadata": {},
   "outputs": [],
   "source": [
    "\n",
    "\n"
   ]
  }
 ],
 "metadata": {
  "kernelspec": {
   "display_name": "Python 3 (ipykernel)",
   "language": "python",
   "name": "python3"
  },
  "language_info": {
   "codemirror_mode": {
    "name": "ipython",
    "version": 3
   },
   "file_extension": ".py",
   "mimetype": "text/x-python",
   "name": "python",
   "nbconvert_exporter": "python",
   "pygments_lexer": "ipython3",
   "version": "3.9.11"
  }
 },
 "nbformat": 4,
 "nbformat_minor": 5
}

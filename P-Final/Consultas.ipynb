{
 "cells": [
  {
   "cell_type": "code",
   "execution_count": 90,
   "id": "646189cf-8c05-44a2-9236-b078baef2862",
   "metadata": {},
   "outputs": [],
   "source": [
    "import pandas as pd\n",
    "from neo4j import GraphDatabase\n",
    "import pymongo"
   ]
  },
  {
   "cell_type": "code",
   "execution_count": 88,
   "id": "d75b381e-feb5-4cff-8f7f-d8bda042a065",
   "metadata": {},
   "outputs": [],
   "source": [
    "#Neo4j\n",
    "neo_connection = GraphDatabase.driver(\n",
    "    uri = \"bolt://localhost:7687\", auth=(\"neo4j\", \"neo5j\"))\n",
    "session = neo_connection.session()    "
   ]
  },
  {
   "cell_type": "code",
   "execution_count": 92,
   "id": "d71ab562-e4b9-4cc3-a003-1a2e7392d317",
   "metadata": {},
   "outputs": [],
   "source": [
    "#mongo\n",
    "client=pymongo.MongoClient('mongodb://127.0.0.1:27017/')\n",
    "mydb = client['Practica4']\n",
    "table = mydb[\"tabla_peliculas\"]"
   ]
  },
  {
   "cell_type": "code",
   "execution_count": 50,
   "id": "af35b8ed-d6f8-454f-a6da-be3ff2f58daf",
   "metadata": {
    "collapsed": true,
    "jupyter": {
     "outputs_hidden": true,
     "source_hidden": true
    },
    "tags": []
   },
   "outputs": [
    {
     "name": "stdout",
     "output_type": "stream",
     "text": [
      "MATCH (a1:actor {nombre:'George \\'Gabby\\' Hayes'})\n",
      "MATCH (p:titulo) \n",
      "MATCH (a2:actor) \n",
      "MATCH (a1)-[algo]->(p)-->(a2) \n",
      "RETURN a1,a2,p\n"
     ]
    }
   ],
   "source": [
    "print(string[:50])\n",
    "print(string[51:68])\n",
    "print(string[68:85])\n",
    "print(string[85:115])\n",
    "print(string[115:])"
   ]
  },
  {
   "cell_type": "code",
   "execution_count": 28,
   "id": "6f8faccb-5aa5-4917-9f81-f6f10044975c",
   "metadata": {},
   "outputs": [
    {
     "data": {
      "text/plain": [
       "\"match (n:persona {nombre:'George \\\\'Gabby\\\\' Hayes'}) match (t:titulo) match (n) -[r]- (t) return r, t\""
      ]
     },
     "execution_count": 28,
     "metadata": {},
     "output_type": "execute_result"
    }
   ],
   "source": [
    "name = r'George \\'Gabby\\' Hayes'\n",
    "c0 = f\"match (n:persona {{nombre:'{name}'}}) \\\n",
    "match (t:titulo) \\\n",
    "match (n) -[r]- (t) \\\n",
    "return r, t\"\n",
    "c0"
   ]
  },
  {
   "cell_type": "code",
   "execution_count": 53,
   "id": "1e2dea6b-62d9-465c-be63-d6db59928036",
   "metadata": {},
   "outputs": [],
   "source": [
    "#actores que trabajaron juntos\n",
    "ac = ['Si Jenks', 'Hal Price']\n",
    "\n",
    "#Dados dos actores, obtener peliculas en las que trabajaron juntos.\n",
    "\n",
    "match (a:actor {nombre: _actorA_})\n",
    "match (b:actor {nombre: _actorB_})\n",
    "match (t:titulo)\n",
    "match (a) -- t -- (b)\n",
    "return t\n",
    "\n",
    "c0 = f\"\\\n",
    "match (a:actor {{nombre: '{ac[0]}'}}) \\\n",
    "match (b:actor {{nombre: '{ac[1]}'}}) \\\n",
    "match (t:titulo) \\\n",
    "match (a) -- (t) -- (b) \\\n",
    "return (t)\\\n",
    "\"\n",
    "c0"
   ]
  },
  {
   "cell_type": "code",
   "execution_count": 85,
   "id": "04eb632c-aa28-4cf8-82a0-269162b28912",
   "metadata": {},
   "outputs": [
    {
     "data": {
      "text/plain": [
       "{'id_titulo': 'tm132612', 'nombre': 'Riders of Destiny'}"
      ]
     },
     "execution_count": 85,
     "metadata": {},
     "output_type": "execute_result"
    }
   ],
   "source": [
    "session.run(c0).data()[0]['t']"
   ]
  },
  {
   "cell_type": "code",
   "execution_count": null,
   "id": "2351973b-c82e-4e7a-8cc9-94019a0bebf3",
   "metadata": {},
   "outputs": [],
   "source": [
    "#Dado un director, encuentra actores que fueron dirigidos por él.\n",
    "\n",
    "match (a:actor)\n",
    "match (d:director {nombre: \"_nombredir_\"})\n",
    "match (t:titulo)\n",
    "match (d) -- (t) -- (a)\n",
    "return a;"
   ]
  },
  {
   "cell_type": "code",
   "execution_count": 72,
   "id": "23a254a2-71c5-49e5-8a0d-38a429f5fa2c",
   "metadata": {},
   "outputs": [
    {
     "data": {
      "text/plain": [
       "\"match (a:actor) match (d:director {nombre: 'Wallace Fox'}) match (t:titulo) match (d) -- (t) -- (a) return a;\""
      ]
     },
     "execution_count": 72,
     "metadata": {},
     "output_type": "execute_result"
    }
   ],
   "source": [
    "director = 'Wallace Fox'\n",
    "\n",
    "c1 = f\"\\\n",
    "match (a:actor) \\\n",
    "match (d:director {{nombre: '{director}'}}) \\\n",
    "match (t:titulo) \\\n",
    "match (d) -- (t) -- (a) \\\n",
    "return a;\\\n",
    "\"\n",
    "c1"
   ]
  },
  {
   "cell_type": "code",
   "execution_count": 108,
   "id": "8719c52a-31a7-4805-9046-218042b9454f",
   "metadata": {
    "collapsed": true,
    "jupyter": {
     "outputs_hidden": true
    },
    "tags": []
   },
   "outputs": [
    {
     "data": {
      "text/plain": [
       "[{'a': {'id_persona': '64300', 'nombre': \"Robert 'Buzz' Henry\"}},\n",
       " {'a': {'id_persona': '127876', 'nombre': 'Stuart Erwin'}},\n",
       " {'a': {'id_persona': '27280', 'nombre': 'Eddie Kane'}},\n",
       " {'a': {'id_persona': '14166', 'nombre': 'Bess Flowers'}},\n",
       " {'a': {'id_persona': '564479', 'nombre': 'Marcy McGuire'}},\n",
       " {'a': {'id_persona': '570400', 'nombre': 'Renee Helms'}},\n",
       " {'a': {'id_persona': '108232', 'nombre': 'Charles Williams'}},\n",
       " {'a': {'id_persona': '45704', 'nombre': 'Charles Judels'}},\n",
       " {'a': {'id_persona': '47792', 'nombre': 'Gladys Blake'}},\n",
       " {'a': {'id_persona': '153889', 'nombre': 'Lorraine Krueger'}},\n",
       " {'a': {'id_persona': '570009', 'nombre': 'Ariel Heath'}},\n",
       " {'a': {'id_persona': '326540', 'nombre': 'Alex Craig'}},\n",
       " {'a': {'id_persona': '133960', 'nombre': 'Linda Brent'}},\n",
       " {'a': {'id_persona': '565316', 'nombre': 'Craig Woods'}},\n",
       " {'a': {'id_persona': '17301', 'nombre': 'Iris Adrian'}},\n",
       " {'a': {'id_persona': '127299', 'nombre': 'Edward Norris'}},\n",
       " {'a': {'id_persona': '49038', 'nombre': 'Frances Langford'}},\n",
       " {'a': {'id_persona': '229635', 'nombre': 'David Durand'}},\n",
       " {'a': {'id_persona': '239554', 'nombre': 'Al Stone'}},\n",
       " {'a': {'id_persona': '27265', 'nombre': 'Mary Gordon'}},\n",
       " {'a': {'id_persona': '239552', 'nombre': 'Patsy Moran'}},\n",
       " {'a': {'id_persona': '47793', 'nombre': 'Stanley Brown'}},\n",
       " {'a': {'id_persona': '58065', 'nombre': 'Johnny Duncan'}},\n",
       " {'a': {'id_persona': '47771', 'nombre': 'Robert Greig'}},\n",
       " {'a': {'id_persona': '32910', 'nombre': 'Herbert Heyes'}},\n",
       " {'a': {'id_persona': '17301', 'nombre': 'Iris Adrian'}},\n",
       " {'a': {'id_persona': '137696', 'nombre': 'Noah Beery'}},\n",
       " {'a': {'id_persona': '26245', 'nombre': 'William Benedict'}},\n",
       " {'a': {'id_persona': '133997', 'nombre': 'Louise Currie'}},\n",
       " {'a': {'id_persona': '42495', 'nombre': 'Gabriel Dell'}},\n",
       " {'a': {'id_persona': '42496', 'nombre': 'Huntz Hall'}},\n",
       " {'a': {'id_persona': '31470', 'nombre': 'Leo Gorcey'}},\n",
       " {'a': {'id_persona': '2296353', 'nombre': 'Sam Bernard'}},\n",
       " {'a': {'id_persona': '153310', 'nombre': 'Jerry Bergen'}},\n",
       " {'a': {'id_persona': '60475', 'nombre': 'Philip Ahn'}},\n",
       " {'a': {'id_persona': '153743', 'nombre': 'Bobby Stone'}},\n",
       " {'a': {'id_persona': '96553', 'nombre': 'Sunshine Sammy Morrison'}},\n",
       " {'a': {'id_persona': '132382', 'nombre': 'David Gorcey'}},\n",
       " {'a': {'id_persona': '28653', 'nombre': 'Robert Armstrong'}},\n",
       " {'a': {'id_persona': '152700', 'nombre': 'Florence Rice'}},\n",
       " {'a': {'id_persona': '134195', 'nombre': 'Tom Brown'}},\n",
       " {'a': {'id_persona': '42495', 'nombre': 'Gabriel Dell'}},\n",
       " {'a': {'id_persona': '42496', 'nombre': 'Huntz Hall'}},\n",
       " {'a': {'id_persona': '42494', 'nombre': 'Bobby Jordan'}},\n",
       " {'a': {'id_persona': '31470', 'nombre': 'Leo Gorcey'}},\n",
       " {'a': {'id_persona': '137390', 'nombre': 'Gale Storm'}},\n",
       " {'a': {'id_persona': '137838', 'nombre': 'Maxie Rosenbloom'}},\n",
       " {'a': {'id_persona': '42495', 'nombre': 'Gabriel Dell'}},\n",
       " {'a': {'id_persona': '42496', 'nombre': 'Huntz Hall'}},\n",
       " {'a': {'id_persona': '42494', 'nombre': 'Bobby Jordan'}},\n",
       " {'a': {'id_persona': '31470', 'nombre': 'Leo Gorcey'}},\n",
       " {'a': {'id_persona': '28726', 'nombre': 'Eddie Foster'}},\n",
       " {'a': {'id_persona': '33406', 'nombre': 'Minerva Urecal'}},\n",
       " {'a': {'id_persona': '83567', 'nombre': 'Jack Chefe'}},\n",
       " {'a': {'id_persona': '94592', 'nombre': 'Bill Cartledge'}},\n",
       " {'a': {'id_persona': '36160', 'nombre': 'Jack Carr'}},\n",
       " {'a': {'id_persona': '69475', 'nombre': 'Dick Ryan'}},\n",
       " {'a': {'id_persona': '564877', 'nombre': 'Pat Costello'}},\n",
       " {'a': {'id_persona': '571377', 'nombre': 'Tony Carson'}},\n",
       " {'a': {'id_persona': '103096', 'nombre': 'Dennis Moore'}},\n",
       " {'a': {'id_persona': '74814', 'nombre': 'Jack Mulhall'}},\n",
       " {'a': {'id_persona': '15620', 'nombre': 'Martha Wentworth'}},\n",
       " {'a': {'id_persona': '132382', 'nombre': 'David Gorcey'}},\n",
       " {'a': {'id_persona': '96553', 'nombre': 'Sunshine Sammy Morrison'}},\n",
       " {'a': {'id_persona': '132383', 'nombre': 'Donald Haines'}},\n",
       " {'a': {'id_persona': '153743', 'nombre': 'Bobby Stone'}},\n",
       " {'a': {'id_persona': '102886', 'nombre': 'Charlotte Henry'}},\n",
       " {'a': {'id_persona': '154423', 'nombre': 'Warren Hull'}},\n",
       " {'a': {'id_persona': '18036', 'nombre': 'Keye Luke'}},\n",
       " {'a': {'id_persona': '42496', 'nombre': 'Huntz Hall'}},\n",
       " {'a': {'id_persona': '42494', 'nombre': 'Bobby Jordan'}},\n",
       " {'a': {'id_persona': '31470', 'nombre': 'Leo Gorcey'}},\n",
       " {'a': {'id_persona': '569580', 'nombre': 'Betty Sinclair'}},\n",
       " {'a': {'id_persona': '57856', 'nombre': \"'Snub' Pollard\"}},\n",
       " {'a': {'id_persona': '21785', 'nombre': 'Frank Moran'}},\n",
       " {'a': {'id_persona': '153838', 'nombre': 'Jack Kenney'}},\n",
       " {'a': {'id_persona': '22477', 'nombre': 'Franklyn Farnum'}},\n",
       " {'a': {'id_persona': '137944', 'nombre': 'J. Arthur Young'}},\n",
       " {'a': {'id_persona': '60264', 'nombre': 'Bud Osborne'}},\n",
       " {'a': {'id_persona': '74814', 'nombre': 'Jack Mulhall'}},\n",
       " {'a': {'id_persona': '239552', 'nombre': 'Patsy Moran'}},\n",
       " {'a': {'id_persona': '14770', 'nombre': 'Dewey Robinson'}},\n",
       " {'a': {'id_persona': '570621', 'nombre': 'Betty Wells'}},\n",
       " {'a': {'id_persona': '134280', 'nombre': 'Jack Raymond'}},\n",
       " {'a': {'id_persona': '153743', 'nombre': 'Bobby Stone'}},\n",
       " {'a': {'id_persona': '102538', 'nombre': 'Stanley Clements'}},\n",
       " {'a': {'id_persona': '96553', 'nombre': 'Sunshine Sammy Morrison'}},\n",
       " {'a': {'id_persona': '132381', 'nombre': \"Dave O'Brien\"}},\n",
       " {'a': {'id_persona': '97874', 'nombre': 'Ann Gillis'}},\n",
       " {'a': {'id_persona': '12934', 'nombre': 'Marc Lawrence'}},\n",
       " {'a': {'id_persona': '62041', 'nombre': 'Noah Beery Jr.'}},\n",
       " {'a': {'id_persona': '42495', 'nombre': 'Gabriel Dell'}},\n",
       " {'a': {'id_persona': '42496', 'nombre': 'Huntz Hall'}},\n",
       " {'a': {'id_persona': '42494', 'nombre': 'Bobby Jordan'}},\n",
       " {'a': {'id_persona': '31470', 'nombre': 'Leo Gorcey'}},\n",
       " {'a': {'id_persona': '190733', 'nombre': 'Vince Barnett'}},\n",
       " {'a': {'id_persona': '153433', 'nombre': 'Gwen Kenyon'}},\n",
       " {'a': {'id_persona': '138323', 'nombre': 'Joan Barclay'}},\n",
       " {'a': {'id_persona': '134190', 'nombre': 'Kenneth Harlan'}},\n",
       " {'a': {'id_persona': '21785', 'nombre': 'Frank Moran'}},\n",
       " {'a': {'id_persona': '78956', 'nombre': 'Angelo Rossitto'}},\n",
       " {'a': {'id_persona': '33406', 'nombre': 'Minerva Urecal'}},\n",
       " {'a': {'id_persona': '128629', 'nombre': 'Elizabeth Russell'}},\n",
       " {'a': {'id_persona': '102443', 'nombre': 'Tris Coffin'}},\n",
       " {'a': {'id_persona': '132395', 'nombre': 'Luana Walters'}},\n",
       " {'a': {'id_persona': '45690', 'nombre': 'Bela Lugosi'}},\n",
       " {'a': {'id_persona': '153743', 'nombre': 'Bobby Stone'}},\n",
       " {'a': {'id_persona': '28912', 'nombre': 'Bob Reeves'}},\n",
       " {'a': {'id_persona': '57856', 'nombre': \"'Snub' Pollard\"}},\n",
       " {'a': {'id_persona': '49082', 'nombre': 'Ralph Littlefield'}},\n",
       " {'a': {'id_persona': '27280', 'nombre': 'Eddie Kane'}},\n",
       " {'a': {'id_persona': '55432', 'nombre': 'Eddie Hall'}},\n",
       " {'a': {'id_persona': '90197', 'nombre': 'Bernard Gorcey'}},\n",
       " {'a': {'id_persona': '133964', 'nombre': 'George Eldredge'}},\n",
       " {'a': {'id_persona': '564877', 'nombre': 'Pat Costello'}},\n",
       " {'a': {'id_persona': '570611', 'nombre': 'Ray Miller'}},\n",
       " {'a': {'id_persona': '133998', 'nombre': 'Wheeler Oakman'}},\n",
       " {'a': {'id_persona': '134186', 'nombre': 'Lew Kelly'}},\n",
       " {'a': {'id_persona': '570549', 'nombre': 'Lucille Vance'}},\n",
       " {'a': {'id_persona': '132381', 'nombre': \"Dave O'Brien\"}},\n",
       " {'a': {'id_persona': '58854', 'nombre': 'J. Farrell MacDonald'}},\n",
       " {'a': {'id_persona': '37833', 'nombre': 'John Berkes'}},\n",
       " {'a': {'id_persona': '556213', 'nombre': 'Anna Hope'}},\n",
       " {'a': {'id_persona': '190733', 'nombre': 'Vince Barnett'}},\n",
       " {'a': {'id_persona': '129611', 'nombre': 'Tom Neal'}},\n",
       " {'a': {'id_persona': '58339', 'nombre': 'Wanda McKay'}},\n",
       " {'a': {'id_persona': '62827', 'nombre': 'John Archer'}},\n",
       " {'a': {'id_persona': '45690', 'nombre': 'Bela Lugosi'}}]"
      ]
     },
     "execution_count": 108,
     "metadata": {},
     "output_type": "execute_result"
    }
   ],
   "source": [
    "session.run(c1).data()"
   ]
  },
  {
   "cell_type": "code",
   "execution_count": 118,
   "id": "d92af4b7-ef29-4dba-84c3-9bbbb88e3cd1",
   "metadata": {},
   "outputs": [],
   "source": [
    "#Prueba funcion de consulta 1\n",
    "\n",
    "def consulta1(ac):\n",
    "    c0 = f\"\\\n",
    "match (a:actor {{nombre: '{ac[0]}'}}) \\\n",
    "match (b:actor {{nombre: '{ac[1]}'}}) \\\n",
    "match (t:titulo) \\\n",
    "match (a) -- (t) -- (b) \\\n",
    "return (t)\\\n",
    "\"\n",
    "\n",
    "    a = session.run(c0).data()[0][\"t\"][\"id_titulo\"]\n",
    "    #print(type(a))\n",
    "\n",
    "    consulta = []\n",
    "    for j in table.find({'id_pelicula':a}):\n",
    "        consulta.append(j)\n",
    "\n",
    "    df = pd.DataFrame.from_dict(consulta)\n",
    "    df = df[[\"título\",\"descripción\",\"calificación_imdb\"]]\n",
    "\n",
    "    return df"
   ]
  },
  {
   "cell_type": "code",
   "execution_count": 123,
   "id": "1299f875-75d8-4a33-ac08-e9672e00fad5",
   "metadata": {},
   "outputs": [
    {
     "data": {
      "text/html": [
       "<div>\n",
       "<style scoped>\n",
       "    .dataframe tbody tr th:only-of-type {\n",
       "        vertical-align: middle;\n",
       "    }\n",
       "\n",
       "    .dataframe tbody tr th {\n",
       "        vertical-align: top;\n",
       "    }\n",
       "\n",
       "    .dataframe thead th {\n",
       "        text-align: right;\n",
       "    }\n",
       "</style>\n",
       "<table border=\"1\" class=\"dataframe\">\n",
       "  <thead>\n",
       "    <tr style=\"text-align: right;\">\n",
       "      <th></th>\n",
       "      <th>título</th>\n",
       "      <th>descripción</th>\n",
       "      <th>calificación_imdb</th>\n",
       "    </tr>\n",
       "  </thead>\n",
       "  <tbody>\n",
       "    <tr>\n",
       "      <th>0</th>\n",
       "      <td>Come On, Rangers</td>\n",
       "      <td>A Texas Ranger (Roy Rogers) and his pals come ...</td>\n",
       "      <td>6.2</td>\n",
       "    </tr>\n",
       "    <tr>\n",
       "      <th>1</th>\n",
       "      <td>Wall Street Cowboy</td>\n",
       "      <td>When his ranch falls on hard times, Cowboy Roy...</td>\n",
       "      <td>6.0</td>\n",
       "    </tr>\n",
       "    <tr>\n",
       "      <th>2</th>\n",
       "      <td>Frontier Pony Express</td>\n",
       "      <td>In the midst of the Civil War, Lassiter has a ...</td>\n",
       "      <td>6.2</td>\n",
       "    </tr>\n",
       "    <tr>\n",
       "      <th>3</th>\n",
       "      <td>Rough Riders' Round-up</td>\n",
       "      <td>Roy Rogers is a cowboy who joins the Border Pa...</td>\n",
       "      <td>5.4</td>\n",
       "    </tr>\n",
       "  </tbody>\n",
       "</table>\n",
       "</div>"
      ],
      "text/plain": [
       "                   título                                        descripción  \\\n",
       "0        Come On, Rangers  A Texas Ranger (Roy Rogers) and his pals come ...   \n",
       "1      Wall Street Cowboy  When his ranch falls on hard times, Cowboy Roy...   \n",
       "2   Frontier Pony Express  In the midst of the Civil War, Lassiter has a ...   \n",
       "3  Rough Riders' Round-up  Roy Rogers is a cowboy who joins the Border Pa...   \n",
       "\n",
       "   calificación_imdb  \n",
       "0                6.2  \n",
       "1                6.0  \n",
       "2                6.2  \n",
       "3                5.4  "
      ]
     },
     "execution_count": 123,
     "metadata": {},
     "output_type": "execute_result"
    }
   ],
   "source": [
    "result = consulta1(bc)\n",
    "result"
   ]
  },
  {
   "cell_type": "code",
   "execution_count": 114,
   "id": "5656d681-08d2-4e56-8621-887f87e5b406",
   "metadata": {},
   "outputs": [
    {
     "data": {
      "text/plain": [
       "[\"Robert 'Buzz' Henry\",\n",
       " 'Stuart Erwin',\n",
       " 'Eddie Kane',\n",
       " 'Bess Flowers',\n",
       " 'Marcy McGuire',\n",
       " 'Renee Helms',\n",
       " 'Charles Williams',\n",
       " 'Charles Judels',\n",
       " 'Gladys Blake',\n",
       " 'Lorraine Krueger',\n",
       " 'Ariel Heath',\n",
       " 'Alex Craig',\n",
       " 'Linda Brent',\n",
       " 'Craig Woods',\n",
       " 'Iris Adrian',\n",
       " 'Edward Norris',\n",
       " 'Frances Langford',\n",
       " 'David Durand',\n",
       " 'Al Stone',\n",
       " 'Mary Gordon']"
      ]
     },
     "execution_count": 114,
     "metadata": {},
     "output_type": "execute_result"
    }
   ],
   "source": [
    "#Prueba función de consulta2\n",
    "\n",
    "def consulta2(director,cantidad):\n",
    "    c1 = f\"\\\n",
    "match (a:actor) \\\n",
    "match (d:director {{nombre: '{director}'}}) \\\n",
    "match (t:titulo) \\\n",
    "match (d) -- (t) -- (a) \\\n",
    "return a;\\\n",
    "\"\n",
    "\n",
    "    a = session.run(c1).data()\n",
    "    consulta = []\n",
    "    for v in a:\n",
    "        consulta.append(v[\"a\"][\"nombre\"])\n",
    "    return consulta[:cantidad]\n",
    "\n",
    "consulta2(director, 20)"
   ]
  },
  {
   "cell_type": "code",
   "execution_count": null,
   "id": "2a21b1bd-ceeb-47ed-ab88-50d3893a9780",
   "metadata": {},
   "outputs": [],
   "source": [
    "#Dadas dos peliculas, encontrar a quienes actuaron en ambas:\n",
    "\n",
    "match (a:actor)\n",
    "match (p:movie {nombre:'_peliculaA_'})\n",
    "match (k:movie {nombre:'_peliculaB_'})\n",
    "match (p) -- (a) -- (k)\n",
    "return (a)\n",
    ";"
   ]
  },
  {
   "cell_type": "code",
   "execution_count": 104,
   "id": "51c24671-a735-4fd5-990b-90b875b2b555",
   "metadata": {},
   "outputs": [
    {
     "data": {
      "text/plain": [
       "\"match (a:actor) match (p:movie {nombre:'Come On, Rangers'}) match (k:movie {nombre:'Wall Street Cowboy'}) match (p) -- (a) -- (k) return (a) \""
      ]
     },
     "execution_count": 104,
     "metadata": {},
     "output_type": "execute_result"
    }
   ],
   "source": [
    "pc = [\"Come On, Rangers\", \"Wall Street Cowboy\"]\n",
    "\n",
    "c2 = f\"\\\n",
    "match (a:actor) \\\n",
    "match (p:movie {{nombre:'{pc[0]}'}}) \\\n",
    "match (k:movie {{nombre:'{pc[1]}'}}) \\\n",
    "match (p) -- (a) -- (k) \\\n",
    "return (a) \\\n",
    "\"\n",
    "c2"
   ]
  },
  {
   "cell_type": "code",
   "execution_count": 115,
   "id": "381234e2-6055-4b22-9649-1ee45a529c8b",
   "metadata": {},
   "outputs": [
    {
     "data": {
      "text/plain": [
       "[{'a': {'id_persona': '130905', 'nombre': 'Raymond Hatton'}},\n",
       " {'a': {'id_persona': '123795', 'nombre': 'Roy Rogers'}}]"
      ]
     },
     "execution_count": 115,
     "metadata": {},
     "output_type": "execute_result"
    }
   ],
   "source": [
    "session.run(c2).data()"
   ]
  },
  {
   "cell_type": "code",
   "execution_count": 122,
   "id": "43dffa96-03d5-46f6-9c02-49d707feed2e",
   "metadata": {},
   "outputs": [],
   "source": [
    "##Prueba función de consulta3\n",
    "\n",
    "def consulta3(pc,cantidad):\n",
    "    c2 = f\"\\\n",
    "match (a:actor) \\\n",
    "match (p:movie {{nombre:'{pc[0]}'}}) \\\n",
    "match (k:movie {{nombre:'{pc[1]}'}}) \\\n",
    "match (p) -- (a) -- (k) \\\n",
    "return (a) \\\n",
    "\"\n",
    "    a = session.run(c2).data()\n",
    "    consulta = []\n",
    "    for v in a:\n",
    "        consulta.append(v[\"a\"][\"nombre\"])\n",
    "    return consulta[:cantidad]\n",
    "\n",
    "bc = consulta3(pc, 20)"
   ]
  }
 ],
 "metadata": {
  "kernelspec": {
   "display_name": "Python 3 (ipykernel)",
   "language": "python",
   "name": "python3"
  },
  "language_info": {
   "codemirror_mode": {
    "name": "ipython",
    "version": 3
   },
   "file_extension": ".py",
   "mimetype": "text/x-python",
   "name": "python",
   "nbconvert_exporter": "python",
   "pygments_lexer": "ipython3",
   "version": "3.9.11"
  }
 },
 "nbformat": 4,
 "nbformat_minor": 5
}

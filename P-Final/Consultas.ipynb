{
 "cells": [
  {
   "cell_type": "code",
   "execution_count": 1,
   "id": "646189cf-8c05-44a2-9236-b078baef2862",
   "metadata": {},
   "outputs": [],
   "source": [
    "import pandas as pd\n",
    "from neo4j import GraphDatabase\n",
    "import pymongo"
   ]
  },
  {
   "cell_type": "markdown",
   "id": "a034c53b-9ef9-49f3-a526-08172838a4b2",
   "metadata": {},
   "source": [
    "### Conexiones"
   ]
  },
  {
   "cell_type": "code",
   "execution_count": 2,
   "id": "d75b381e-feb5-4cff-8f7f-d8bda042a065",
   "metadata": {},
   "outputs": [],
   "source": [
    "#Neo4j\n",
    "neo_connection = GraphDatabase.driver(\n",
    "    uri = \"bolt://localhost:7687\", auth=(\"neo4j\", \"neo5j\"))\n",
    "session = neo_connection.session()    "
   ]
  },
  {
   "cell_type": "code",
   "execution_count": 3,
   "id": "d71ab562-e4b9-4cc3-a003-1a2e7392d317",
   "metadata": {},
   "outputs": [],
   "source": [
    "#mongo\n",
    "client=pymongo.MongoClient('mongodb://127.0.0.1:27017/')\n",
    "mydb = client['Practica4']\n",
    "table = mydb[\"tabla_peliculas\"]"
   ]
  },
  {
   "cell_type": "markdown",
   "id": "7eb9423c-c328-4fec-86ef-989d516f242b",
   "metadata": {},
   "source": [
    "### Consultas"
   ]
  },
  {
   "cell_type": "markdown",
   "id": "55783c6e-aa1d-4337-b080-3c4715836632",
   "metadata": {},
   "source": [
    "#### Consulta 1"
   ]
  },
  {
   "cell_type": "code",
   "execution_count": 39,
   "id": "1e2dea6b-62d9-465c-be63-d6db59928036",
   "metadata": {
    "tags": []
   },
   "outputs": [
    {
     "data": {
      "text/plain": [
       "\"match (a:actor {nombre: 'Raymond Hatton'}) match (b:actor {nombre: 'Roy Rogers'}) match (t:titulo) match (a) -- (t) -- (b) return (t)\""
      ]
     },
     "execution_count": 39,
     "metadata": {},
     "output_type": "execute_result"
    }
   ],
   "source": [
    "#actores que trabajaron juntos\n",
    "ac = ['Raymond Hatton', 'Roy Rogers']\n",
    "\n",
    "#Dados dos actores, obtener peliculas en las que trabajaron juntos.\n",
    "c0 = f\"\\\n",
    "match (a:actor {{nombre: '{ac[0]}'}}) \\\n",
    "match (b:actor {{nombre: '{ac[1]}'}}) \\\n",
    "match (t:titulo) \\\n",
    "match (a) -- (t) -- (b) \\\n",
    "return (t)\\\n",
    "\"\n",
    "c0"
   ]
  },
  {
   "cell_type": "code",
   "execution_count": 42,
   "id": "4621a5d0-ea91-4b40-a73f-47cbebea1662",
   "metadata": {},
   "outputs": [],
   "source": [
    "def consulta1(ac):\n",
    "    c0 = f\"\\\n",
    "match (a:actor {{nombre: '{ac[0]}'}}) \\\n",
    "match (b:actor {{nombre: '{ac[1]}'}}) \\\n",
    "match (t:titulo) \\\n",
    "match (a) -- (t) -- (b) \\\n",
    "return (t)\\\n",
    "\"\n",
    "\n",
    "    a = session.run(c0).data()\n",
    "\n",
    "    consulta = []\n",
    "    for i in a:\n",
    "        for j in table.find({'id_pelicula':i[\"t\"][\"id_titulo\"]}):\n",
    "            consulta.append(j)\n",
    "\n",
    "    df = pd.DataFrame.from_dict(consulta)\n",
    "    df = df[[\"título\",\"descripción\",\"calificación_imdb\"]]\n",
    "\n",
    "    return df"
   ]
  },
  {
   "cell_type": "code",
   "execution_count": 43,
   "id": "1299f875-75d8-4a33-ac08-e9672e00fad5",
   "metadata": {},
   "outputs": [
    {
     "data": {
      "text/html": [
       "<div>\n",
       "<style scoped>\n",
       "    .dataframe tbody tr th:only-of-type {\n",
       "        vertical-align: middle;\n",
       "    }\n",
       "\n",
       "    .dataframe tbody tr th {\n",
       "        vertical-align: top;\n",
       "    }\n",
       "\n",
       "    .dataframe thead th {\n",
       "        text-align: right;\n",
       "    }\n",
       "</style>\n",
       "<table border=\"1\" class=\"dataframe\">\n",
       "  <thead>\n",
       "    <tr style=\"text-align: right;\">\n",
       "      <th></th>\n",
       "      <th>título</th>\n",
       "      <th>descripción</th>\n",
       "      <th>calificación_imdb</th>\n",
       "    </tr>\n",
       "  </thead>\n",
       "  <tbody>\n",
       "    <tr>\n",
       "      <th>0</th>\n",
       "      <td>Come On, Rangers</td>\n",
       "      <td>A Texas Ranger (Roy Rogers) and his pals come ...</td>\n",
       "      <td>6.2</td>\n",
       "    </tr>\n",
       "    <tr>\n",
       "      <th>1</th>\n",
       "      <td>Wall Street Cowboy</td>\n",
       "      <td>When his ranch falls on hard times, Cowboy Roy...</td>\n",
       "      <td>6.0</td>\n",
       "    </tr>\n",
       "    <tr>\n",
       "      <th>2</th>\n",
       "      <td>Frontier Pony Express</td>\n",
       "      <td>In the midst of the Civil War, Lassiter has a ...</td>\n",
       "      <td>6.2</td>\n",
       "    </tr>\n",
       "    <tr>\n",
       "      <th>3</th>\n",
       "      <td>Rough Riders' Round-up</td>\n",
       "      <td>Roy Rogers is a cowboy who joins the Border Pa...</td>\n",
       "      <td>5.4</td>\n",
       "    </tr>\n",
       "  </tbody>\n",
       "</table>\n",
       "</div>"
      ],
      "text/plain": [
       "                   título                                        descripción  \\\n",
       "0        Come On, Rangers  A Texas Ranger (Roy Rogers) and his pals come ...   \n",
       "1      Wall Street Cowboy  When his ranch falls on hard times, Cowboy Roy...   \n",
       "2   Frontier Pony Express  In the midst of the Civil War, Lassiter has a ...   \n",
       "3  Rough Riders' Round-up  Roy Rogers is a cowboy who joins the Border Pa...   \n",
       "\n",
       "   calificación_imdb  \n",
       "0                6.2  \n",
       "1                6.0  \n",
       "2                6.2  \n",
       "3                5.4  "
      ]
     },
     "execution_count": 43,
     "metadata": {},
     "output_type": "execute_result"
    }
   ],
   "source": [
    "result = consulta1(ac)\n",
    "result"
   ]
  },
  {
   "cell_type": "markdown",
   "id": "d5d3f716-7eec-4ce0-84ac-81d605f234a5",
   "metadata": {},
   "source": [
    "#### Consulta 2"
   ]
  },
  {
   "cell_type": "code",
   "execution_count": 44,
   "id": "2351973b-c82e-4e7a-8cc9-94019a0bebf3",
   "metadata": {},
   "outputs": [
    {
     "data": {
      "text/plain": [
       "\"match (a:actor) match (d:director {nombre: 'Wallace Fox'}) match (t:titulo) match (d) -- (t) -- (a) return a;\""
      ]
     },
     "execution_count": 44,
     "metadata": {},
     "output_type": "execute_result"
    }
   ],
   "source": [
    "director = 'Wallace Fox'\n",
    "\n",
    "#Dado un director, encuentra actores que fueron dirigidos por él.\n",
    "c1 = f\"\\\n",
    "match (a:actor) \\\n",
    "match (d:director {{nombre: '{director}'}}) \\\n",
    "match (t:titulo) \\\n",
    "match (d) -- (t) -- (a) \\\n",
    "return a;\\\n",
    "\"\n",
    "c1"
   ]
  },
  {
   "cell_type": "code",
   "execution_count": 56,
   "id": "01f28408-298e-4e9b-821f-de5024d31ca1",
   "metadata": {},
   "outputs": [],
   "source": [
    "#Prueba función de consulta2\n",
    "\n",
    "def consulta2(director,cantidad):\n",
    "    c1 = f\"\\\n",
    "match (a:actor) \\\n",
    "match (d:director {{nombre: '{director}'}}) \\\n",
    "match (t:titulo) \\\n",
    "match (d) -- (t) -- (a) \\\n",
    "return a, t;\\\n",
    "\"\n",
    "\n",
    "    a = session.run(c1).data()\n",
    "    consulta = []\n",
    "    c = []\n",
    "    d = []\n",
    "    for v in a:\n",
    "        consulta.append(v[\"a\"][\"nombre\"])\n",
    "        c.append(v[\"t\"][\"id_titulo\"])\n",
    "\n",
    "    for j,v in enumerate(c):\n",
    "        for k in table.find({'id_pelicula':v}):\n",
    "            #print(k)\n",
    "            d.append(k)\n",
    "\n",
    "    d1 = pd.DataFrame.from_dict(consulta)\n",
    "    d2 = pd.DataFrame.from_dict(d)\n",
    "    d2 = d2[[\"título\",\"descripción\",\"calificación_imdb\"]]\n",
    "    resultado = pd.concat([d1,d2],axis=1)\n",
    "\n",
    "    return resultado[:cantidad]"
   ]
  },
  {
   "cell_type": "code",
   "execution_count": 57,
   "id": "5aed97b9-3258-4583-b0d1-3e7921b31639",
   "metadata": {},
   "outputs": [
    {
     "data": {
      "text/html": [
       "<div>\n",
       "<style scoped>\n",
       "    .dataframe tbody tr th:only-of-type {\n",
       "        vertical-align: middle;\n",
       "    }\n",
       "\n",
       "    .dataframe tbody tr th {\n",
       "        vertical-align: top;\n",
       "    }\n",
       "\n",
       "    .dataframe thead th {\n",
       "        text-align: right;\n",
       "    }\n",
       "</style>\n",
       "<table border=\"1\" class=\"dataframe\">\n",
       "  <thead>\n",
       "    <tr style=\"text-align: right;\">\n",
       "      <th></th>\n",
       "      <th>0</th>\n",
       "      <th>título</th>\n",
       "      <th>descripción</th>\n",
       "      <th>calificación_imdb</th>\n",
       "    </tr>\n",
       "  </thead>\n",
       "  <tbody>\n",
       "    <tr>\n",
       "      <th>0</th>\n",
       "      <td>Robert 'Buzz' Henry</td>\n",
       "      <td>The Great Mike</td>\n",
       "      <td>Story of a boy and his horse. Mike is the hors...</td>\n",
       "      <td>5.3</td>\n",
       "    </tr>\n",
       "    <tr>\n",
       "      <th>1</th>\n",
       "      <td>Stuart Erwin</td>\n",
       "      <td>The Great Mike</td>\n",
       "      <td>Story of a boy and his horse. Mike is the hors...</td>\n",
       "      <td>5.3</td>\n",
       "    </tr>\n",
       "    <tr>\n",
       "      <th>2</th>\n",
       "      <td>Eddie Kane</td>\n",
       "      <td>Career Girl</td>\n",
       "      <td>Joan Terry, from Kansas City, comes to New Yor...</td>\n",
       "      <td>5.5</td>\n",
       "    </tr>\n",
       "    <tr>\n",
       "      <th>3</th>\n",
       "      <td>Bess Flowers</td>\n",
       "      <td>Career Girl</td>\n",
       "      <td>Joan Terry, from Kansas City, comes to New Yor...</td>\n",
       "      <td>5.5</td>\n",
       "    </tr>\n",
       "    <tr>\n",
       "      <th>4</th>\n",
       "      <td>Marcy McGuire</td>\n",
       "      <td>Career Girl</td>\n",
       "      <td>Joan Terry, from Kansas City, comes to New Yor...</td>\n",
       "      <td>5.5</td>\n",
       "    </tr>\n",
       "    <tr>\n",
       "      <th>5</th>\n",
       "      <td>Renee Helms</td>\n",
       "      <td>Career Girl</td>\n",
       "      <td>Joan Terry, from Kansas City, comes to New Yor...</td>\n",
       "      <td>5.5</td>\n",
       "    </tr>\n",
       "    <tr>\n",
       "      <th>6</th>\n",
       "      <td>Charles Williams</td>\n",
       "      <td>Career Girl</td>\n",
       "      <td>Joan Terry, from Kansas City, comes to New Yor...</td>\n",
       "      <td>5.5</td>\n",
       "    </tr>\n",
       "    <tr>\n",
       "      <th>7</th>\n",
       "      <td>Charles Judels</td>\n",
       "      <td>Career Girl</td>\n",
       "      <td>Joan Terry, from Kansas City, comes to New Yor...</td>\n",
       "      <td>5.5</td>\n",
       "    </tr>\n",
       "  </tbody>\n",
       "</table>\n",
       "</div>"
      ],
      "text/plain": [
       "                     0          título  \\\n",
       "0  Robert 'Buzz' Henry  The Great Mike   \n",
       "1         Stuart Erwin  The Great Mike   \n",
       "2           Eddie Kane     Career Girl   \n",
       "3         Bess Flowers     Career Girl   \n",
       "4        Marcy McGuire     Career Girl   \n",
       "5          Renee Helms     Career Girl   \n",
       "6     Charles Williams     Career Girl   \n",
       "7       Charles Judels     Career Girl   \n",
       "\n",
       "                                         descripción  calificación_imdb  \n",
       "0  Story of a boy and his horse. Mike is the hors...                5.3  \n",
       "1  Story of a boy and his horse. Mike is the hors...                5.3  \n",
       "2  Joan Terry, from Kansas City, comes to New Yor...                5.5  \n",
       "3  Joan Terry, from Kansas City, comes to New Yor...                5.5  \n",
       "4  Joan Terry, from Kansas City, comes to New Yor...                5.5  \n",
       "5  Joan Terry, from Kansas City, comes to New Yor...                5.5  \n",
       "6  Joan Terry, from Kansas City, comes to New Yor...                5.5  \n",
       "7  Joan Terry, from Kansas City, comes to New Yor...                5.5  "
      ]
     },
     "execution_count": 57,
     "metadata": {},
     "output_type": "execute_result"
    }
   ],
   "source": [
    "consulta2(director, 8)"
   ]
  },
  {
   "cell_type": "markdown",
   "id": "1e8c8a10-5806-46c7-9c98-98594b01097b",
   "metadata": {},
   "source": [
    "#### Consulta 3"
   ]
  },
  {
   "cell_type": "code",
   "execution_count": 58,
   "id": "2a21b1bd-ceeb-47ed-ab88-50d3893a9780",
   "metadata": {},
   "outputs": [
    {
     "data": {
      "text/plain": [
       "\"match (a:actor) match (p:movie {nombre:'Come On, Rangers'}) match (k:movie {nombre:'Wall Street Cowboy'}) match (p) -- (a) -- (k) return (a) \""
      ]
     },
     "execution_count": 58,
     "metadata": {},
     "output_type": "execute_result"
    }
   ],
   "source": [
    "#Dadas dos peliculas, encontrar a quienes actuaron en ambas:\n",
    "\n",
    "pc = [\"Come On, Rangers\", \"Wall Street Cowboy\"]\n",
    "\n",
    "c2 = f\"\\\n",
    "match (a:actor) \\\n",
    "match (p:movie {{nombre:'{pc[0]}'}}) \\\n",
    "match (k:movie {{nombre:'{pc[1]}'}}) \\\n",
    "match (p) -- (a) -- (k) \\\n",
    "return (a) \\\n",
    "\"\n",
    "c2"
   ]
  },
  {
   "cell_type": "code",
   "execution_count": 62,
   "id": "9e1566be-0454-4620-96ea-7aa274f4087b",
   "metadata": {},
   "outputs": [],
   "source": [
    "def consulta3(pc,cantidad):\n",
    "    c2 = f\"\\\n",
    "match (a:actor) \\\n",
    "match (p:movie {{nombre:'{pc[0]}'}}) \\\n",
    "match (k:movie {{nombre:'{pc[1]}'}}) \\\n",
    "match (p) -- (a) -- (k) \\\n",
    "return (a) \\\n",
    "\"\n",
    "    a = session.run(c2).data()\n",
    "    consulta = []\n",
    "    for v in a:\n",
    "        consulta.append(v[\"a\"][\"nombre\"])\n",
    "    return consulta[:cantidad]"
   ]
  },
  {
   "cell_type": "code",
   "execution_count": 65,
   "id": "a5a605a1-f744-4244-adff-6df8aa5f2fe9",
   "metadata": {},
   "outputs": [
    {
     "data": {
      "text/plain": [
       "['Raymond Hatton', 'Roy Rogers']"
      ]
     },
     "execution_count": 65,
     "metadata": {},
     "output_type": "execute_result"
    }
   ],
   "source": [
    "consulta3(pc, 10)"
   ]
  }
 ],
 "metadata": {
  "kernelspec": {
   "display_name": "Python 3 (ipykernel)",
   "language": "python",
   "name": "python3"
  },
  "language_info": {
   "codemirror_mode": {
    "name": "ipython",
    "version": 3
   },
   "file_extension": ".py",
   "mimetype": "text/x-python",
   "name": "python",
   "nbconvert_exporter": "python",
   "pygments_lexer": "ipython3",
   "version": "3.9.11"
  }
 },
 "nbformat": 4,
 "nbformat_minor": 5
}

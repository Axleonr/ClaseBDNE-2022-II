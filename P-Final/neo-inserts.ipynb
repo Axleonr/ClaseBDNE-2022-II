{
 "cells": [
  {
   "cell_type": "code",
   "execution_count": 1,
   "id": "03c380ff-25cb-4886-a5cd-ad5cab11e98f",
   "metadata": {},
   "outputs": [],
   "source": [
    "import pandas as pd\n",
    "from neo4j import GraphDatabase"
   ]
  },
  {
   "cell_type": "code",
   "execution_count": 2,
   "id": "06102211-0ea1-4e70-b410-9e819502d8dd",
   "metadata": {},
   "outputs": [
    {
     "data": {
      "text/html": [
       "<div>\n",
       "<style scoped>\n",
       "    .dataframe tbody tr th:only-of-type {\n",
       "        vertical-align: middle;\n",
       "    }\n",
       "\n",
       "    .dataframe tbody tr th {\n",
       "        vertical-align: top;\n",
       "    }\n",
       "\n",
       "    .dataframe thead th {\n",
       "        text-align: right;\n",
       "    }\n",
       "</style>\n",
       "<table border=\"1\" class=\"dataframe\">\n",
       "  <thead>\n",
       "    <tr style=\"text-align: right;\">\n",
       "      <th></th>\n",
       "      <th>id_persona</th>\n",
       "      <th>id_titulo</th>\n",
       "      <th>nombre</th>\n",
       "      <th>nombre_personaje</th>\n",
       "      <th>rol</th>\n",
       "    </tr>\n",
       "  </thead>\n",
       "  <tbody>\n",
       "    <tr>\n",
       "      <th>0</th>\n",
       "      <td>59401</td>\n",
       "      <td>ts20945</td>\n",
       "      <td>Joe Besser</td>\n",
       "      <td>Joe</td>\n",
       "      <td>ACTOR</td>\n",
       "    </tr>\n",
       "    <tr>\n",
       "      <th>1</th>\n",
       "      <td>31460</td>\n",
       "      <td>ts20945</td>\n",
       "      <td>Moe Howard</td>\n",
       "      <td>Moe</td>\n",
       "      <td>ACTOR</td>\n",
       "    </tr>\n",
       "    <tr>\n",
       "      <th>2</th>\n",
       "      <td>31461</td>\n",
       "      <td>ts20945</td>\n",
       "      <td>Larry Fine</td>\n",
       "      <td>Larry</td>\n",
       "      <td>ACTOR</td>\n",
       "    </tr>\n",
       "    <tr>\n",
       "      <th>3</th>\n",
       "      <td>21174</td>\n",
       "      <td>tm19248</td>\n",
       "      <td>Buster Keaton</td>\n",
       "      <td>Johnny Gray</td>\n",
       "      <td>ACTOR</td>\n",
       "    </tr>\n",
       "    <tr>\n",
       "      <th>4</th>\n",
       "      <td>28713</td>\n",
       "      <td>tm19248</td>\n",
       "      <td>Marion Mack</td>\n",
       "      <td>Annabelle Lee</td>\n",
       "      <td>ACTOR</td>\n",
       "    </tr>\n",
       "  </tbody>\n",
       "</table>\n",
       "</div>"
      ],
      "text/plain": [
       "   id_persona id_titulo         nombre nombre_personaje    rol\n",
       "0       59401   ts20945     Joe Besser              Joe  ACTOR\n",
       "1       31460   ts20945     Moe Howard              Moe  ACTOR\n",
       "2       31461   ts20945     Larry Fine            Larry  ACTOR\n",
       "3       21174   tm19248  Buster Keaton      Johnny Gray  ACTOR\n",
       "4       28713   tm19248    Marion Mack    Annabelle Lee  ACTOR"
      ]
     },
     "execution_count": 2,
     "metadata": {},
     "output_type": "execute_result"
    }
   ],
   "source": [
    "credits_raw = pd.read_csv(\"./data/credits.csv\")\n",
    "credits_raw.set_axis(\n",
    "    [\"id_persona\",\"id_titulo\",\"nombre\",\"nombre_personaje\",\"rol\"],axis=1,inplace=True)\n",
    "credits_raw.head()"
   ]
  },
  {
   "cell_type": "code",
   "execution_count": 3,
   "id": "ba0bc570-adad-4e76-8eef-a6d21d2d8b39",
   "metadata": {},
   "outputs": [],
   "source": [
    "titles_raw = pd.read_csv(\"./data/titles.csv\")\n",
    "titles_raw.set_axis(\n",
    "    [\"id_titulo\",\"nombre\",\"tipo\",\"descripción\",\"año_creación\",\"clasificación\"\\\n",
    "     ,\"duración\",\"generos\",\"pais/es productores\",\"temporadas\",\"id_imdb\"\\\n",
    "     ,\"calificación_imdb\",\"votos_imdb\",\"popularidad_tmdb\",\"score_tmdb\"]\n",
    "    ,axis=1,inplace=True)"
   ]
  },
  {
   "cell_type": "code",
   "execution_count": 4,
   "id": "6df7ab8a-4751-491b-922f-1a98849c27b2",
   "metadata": {},
   "outputs": [
    {
     "data": {
      "text/plain": [
       "George 'Gabby' Hayes    49\n",
       "Roy Rogers              45\n",
       "Bess Flowers            44\n",
       "Joseph Kane             41\n",
       "Gene Autry              40\n",
       "                        ..\n",
       "Seigi Ozeki              1\n",
       "Winai Kraibutr           1\n",
       "Buakaw Banchamek         1\n",
       "Thammaros Jaichuen       1\n",
       "Ricky Lomax              1\n",
       "Name: nombre, Length: 79758, dtype: int64"
      ]
     },
     "execution_count": 4,
     "metadata": {},
     "output_type": "execute_result"
    }
   ],
   "source": [
    "credits_raw.nombre.value_counts()"
   ]
  },
  {
   "cell_type": "code",
   "execution_count": 168,
   "id": "afe08f4f-ac48-49cf-b7d7-512da43bb537",
   "metadata": {},
   "outputs": [
    {
     "data": {
      "text/html": [
       "<div>\n",
       "<style scoped>\n",
       "    .dataframe tbody tr th:only-of-type {\n",
       "        vertical-align: middle;\n",
       "    }\n",
       "\n",
       "    .dataframe tbody tr th {\n",
       "        vertical-align: top;\n",
       "    }\n",
       "\n",
       "    .dataframe thead th {\n",
       "        text-align: right;\n",
       "    }\n",
       "</style>\n",
       "<table border=\"1\" class=\"dataframe\">\n",
       "  <thead>\n",
       "    <tr style=\"text-align: right;\">\n",
       "      <th></th>\n",
       "      <th>id_persona</th>\n",
       "      <th>nombre</th>\n",
       "      <th>rol</th>\n",
       "    </tr>\n",
       "  </thead>\n",
       "  <tbody>\n",
       "    <tr>\n",
       "      <th>0</th>\n",
       "      <td>59401</td>\n",
       "      <td>Joe Besser</td>\n",
       "      <td>actor</td>\n",
       "    </tr>\n",
       "    <tr>\n",
       "      <th>1</th>\n",
       "      <td>31460</td>\n",
       "      <td>Moe Howard</td>\n",
       "      <td>actor</td>\n",
       "    </tr>\n",
       "    <tr>\n",
       "      <th>2</th>\n",
       "      <td>31461</td>\n",
       "      <td>Larry Fine</td>\n",
       "      <td>actor</td>\n",
       "    </tr>\n",
       "    <tr>\n",
       "      <th>3</th>\n",
       "      <td>21174</td>\n",
       "      <td>Buster Keaton</td>\n",
       "      <td>actor</td>\n",
       "    </tr>\n",
       "    <tr>\n",
       "      <th>4</th>\n",
       "      <td>28713</td>\n",
       "      <td>Marion Mack</td>\n",
       "      <td>actor</td>\n",
       "    </tr>\n",
       "  </tbody>\n",
       "</table>\n",
       "</div>"
      ],
      "text/plain": [
       "   id_persona         nombre    rol\n",
       "0       59401     Joe Besser  actor\n",
       "1       31460     Moe Howard  actor\n",
       "2       31461     Larry Fine  actor\n",
       "3       21174  Buster Keaton  actor\n",
       "4       28713    Marion Mack  actor"
      ]
     },
     "execution_count": 168,
     "metadata": {},
     "output_type": "execute_result"
    }
   ],
   "source": [
    "persona = credits_raw[[\"id_persona\",\"nombre\",\"rol\"]]\n",
    "persona = ppl.drop_duplicates()\n",
    "persona.rol = ppl.rol.str.lower()\n",
    "persona.head()"
   ]
  },
  {
   "cell_type": "code",
   "execution_count": 169,
   "id": "a8887018-1bdb-45df-a6f3-cec878209db2",
   "metadata": {},
   "outputs": [
    {
     "data": {
      "text/html": [
       "<div>\n",
       "<style scoped>\n",
       "    .dataframe tbody tr th:only-of-type {\n",
       "        vertical-align: middle;\n",
       "    }\n",
       "\n",
       "    .dataframe tbody tr th {\n",
       "        vertical-align: top;\n",
       "    }\n",
       "\n",
       "    .dataframe thead th {\n",
       "        text-align: right;\n",
       "    }\n",
       "</style>\n",
       "<table border=\"1\" class=\"dataframe\">\n",
       "  <thead>\n",
       "    <tr style=\"text-align: right;\">\n",
       "      <th></th>\n",
       "      <th>id_titulo</th>\n",
       "      <th>nombre</th>\n",
       "      <th>tipo</th>\n",
       "    </tr>\n",
       "  </thead>\n",
       "  <tbody>\n",
       "    <tr>\n",
       "      <th>0</th>\n",
       "      <td>ts20945</td>\n",
       "      <td>The Three Stooges</td>\n",
       "      <td>show</td>\n",
       "    </tr>\n",
       "    <tr>\n",
       "      <th>1</th>\n",
       "      <td>tm19248</td>\n",
       "      <td>The General</td>\n",
       "      <td>movie</td>\n",
       "    </tr>\n",
       "    <tr>\n",
       "      <th>2</th>\n",
       "      <td>tm82253</td>\n",
       "      <td>The Best Years of Our Lives</td>\n",
       "      <td>movie</td>\n",
       "    </tr>\n",
       "    <tr>\n",
       "      <th>3</th>\n",
       "      <td>tm83884</td>\n",
       "      <td>His Girl Friday</td>\n",
       "      <td>movie</td>\n",
       "    </tr>\n",
       "    <tr>\n",
       "      <th>4</th>\n",
       "      <td>tm56584</td>\n",
       "      <td>In a Lonely Place</td>\n",
       "      <td>movie</td>\n",
       "    </tr>\n",
       "  </tbody>\n",
       "</table>\n",
       "</div>"
      ],
      "text/plain": [
       "  id_titulo                       nombre   tipo\n",
       "0   ts20945            The Three Stooges   show\n",
       "1   tm19248                  The General  movie\n",
       "2   tm82253  The Best Years of Our Lives  movie\n",
       "3   tm83884              His Girl Friday  movie\n",
       "4   tm56584            In a Lonely Place  movie"
      ]
     },
     "execution_count": 169,
     "metadata": {},
     "output_type": "execute_result"
    }
   ],
   "source": [
    "titulo = titles_raw[[\"id_titulo\",\"nombre\", 'tipo']].copy()\n",
    "titulo.tipo = titulo.tipo.str.lower()\n",
    "\n",
    "titulo.head()"
   ]
  },
  {
   "cell_type": "markdown",
   "id": "d8e40765-4e14-4622-bf8e-f99d7771f493",
   "metadata": {},
   "source": [
    "## Nodos"
   ]
  },
  {
   "cell_type": "code",
   "execution_count": 188,
   "id": "46b120b2-943c-4c90-8d82-acc7a8a30319",
   "metadata": {},
   "outputs": [],
   "source": [
    "nodes = [persona, titulo]\n",
    "table_names = ['persona', 'titulo']\n",
    "\n",
    "for idx, df in enumerate(nodes):\n",
    "\n",
    "    label = table_names[idx]\n",
    "    colnames = df.columns\n",
    "    dfcopy = df.set_axis(['id', 'nombre', 'tipo'], axis=1)\n",
    "    dfcopy.nombre = dfcopy.nombre.str.replace(\"\\'\", \"\\\\'\")\n",
    "    execution_commands = []\n",
    "\n",
    "    for _, entry in dfcopy.iterrows():\n",
    "        \n",
    "        s1 = f\"create (p:{label}:{entry.tipo} \"\n",
    "        s2 = f\"{{{colnames[0]}:'{entry.id}', {colnames[1]}:'{entry.nombre}'}})\"\n",
    "        create_statement = s1 + s2\n",
    "        execution_commands.append(create_statement)\n",
    "\n",
    "\n",
    "    def execute_transactions(execution_commands):\n",
    "        data_base_connection = GraphDatabase.driver(\n",
    "            uri = \"bolt://localhost:7687\", auth=(\"neo4j\", \"neo5j\"))\n",
    "        session = data_base_connection.session()    \n",
    "        for i in execution_commands:\n",
    "            session.run(i)\n",
    "\n",
    "    execute_transactions(execution_commands)"
   ]
  },
  {
   "cell_type": "code",
   "execution_count": 191,
   "id": "89bd8e6c-f2d3-4c22-b8ec-1db90e4cb6e8",
   "metadata": {},
   "outputs": [
    {
     "data": {
      "text/plain": [
       "''"
      ]
     },
     "execution_count": 191,
     "metadata": {},
     "output_type": "execute_result"
    }
   ],
   "source": [
    "# Create statement for ACTORES\n",
    "\"create (p:persona:actor { id_persona:'_id_persona_', nombre:'_nombre_'})\"\n",
    "# Create statement for DIRECTORES\n",
    "\"create (p:persona:DIRECTOR { id_persona:'_id_persona_', nombre:'_nombre_director'})\"\n",
    "# Create statement for TITULOS\n",
    "\"create (t:titulo:tipo { id_titulo:'_id_titulo_', nombre:'_nombre_'})\"\n"
   ]
  },
  {
   "cell_type": "markdown",
   "id": "e1845f72-7b1e-4977-9bf5-c73b97df6639",
   "metadata": {},
   "source": [
    "## Relaciones"
   ]
  },
  {
   "cell_type": "code",
   "execution_count": 193,
   "id": "0634fdb8-95e0-442c-a531-d807042713cc",
   "metadata": {},
   "outputs": [
    {
     "data": {
      "text/html": [
       "<div>\n",
       "<style scoped>\n",
       "    .dataframe tbody tr th:only-of-type {\n",
       "        vertical-align: middle;\n",
       "    }\n",
       "\n",
       "    .dataframe tbody tr th {\n",
       "        vertical-align: top;\n",
       "    }\n",
       "\n",
       "    .dataframe thead th {\n",
       "        text-align: right;\n",
       "    }\n",
       "</style>\n",
       "<table border=\"1\" class=\"dataframe\">\n",
       "  <thead>\n",
       "    <tr style=\"text-align: right;\">\n",
       "      <th></th>\n",
       "      <th>id_titulo</th>\n",
       "      <th>id_persona</th>\n",
       "      <th>nombre_personaje</th>\n",
       "      <th>rol</th>\n",
       "    </tr>\n",
       "  </thead>\n",
       "  <tbody>\n",
       "    <tr>\n",
       "      <th>0</th>\n",
       "      <td>ts20945</td>\n",
       "      <td>59401</td>\n",
       "      <td>Joe</td>\n",
       "      <td>actor</td>\n",
       "    </tr>\n",
       "    <tr>\n",
       "      <th>1</th>\n",
       "      <td>ts20945</td>\n",
       "      <td>31460</td>\n",
       "      <td>Moe</td>\n",
       "      <td>actor</td>\n",
       "    </tr>\n",
       "    <tr>\n",
       "      <th>2</th>\n",
       "      <td>ts20945</td>\n",
       "      <td>31461</td>\n",
       "      <td>Larry</td>\n",
       "      <td>actor</td>\n",
       "    </tr>\n",
       "    <tr>\n",
       "      <th>3</th>\n",
       "      <td>tm19248</td>\n",
       "      <td>21174</td>\n",
       "      <td>Johnny Gray</td>\n",
       "      <td>actor</td>\n",
       "    </tr>\n",
       "    <tr>\n",
       "      <th>4</th>\n",
       "      <td>tm19248</td>\n",
       "      <td>28713</td>\n",
       "      <td>Annabelle Lee</td>\n",
       "      <td>actor</td>\n",
       "    </tr>\n",
       "  </tbody>\n",
       "</table>\n",
       "</div>"
      ],
      "text/plain": [
       "  id_titulo  id_persona nombre_personaje    rol\n",
       "0   ts20945       59401              Joe  actor\n",
       "1   ts20945       31460              Moe  actor\n",
       "2   ts20945       31461            Larry  actor\n",
       "3   tm19248       21174      Johnny Gray  actor\n",
       "4   tm19248       28713    Annabelle Lee  actor"
      ]
     },
     "execution_count": 193,
     "metadata": {},
     "output_type": "execute_result"
    }
   ],
   "source": [
    "trabaja = credits_raw[[\"id_titulo\",\"id_persona\",\"nombre_personaje\",\"rol\"]].copy()\n",
    "trabaja.rol = trabaja.rol.str.lower()\n",
    "trabaja.head()"
   ]
  },
  {
   "cell_type": "code",
   "execution_count": 204,
   "id": "62c4d1ae-f2a9-4f3a-ba3e-c38dfa474a4b",
   "metadata": {},
   "outputs": [],
   "source": [
    "rels = [trabaja]\n",
    "table_names = ['trabaja_en']\n",
    "\n",
    "for idx, df in enumerate(rels):\n",
    "\n",
    "    label = table_names[idx]\n",
    "    colnames = df.columns\n",
    "    dfcopy = df.set_axis(['titulo', 'persona', 'personaje', 'rol'], axis=1)\n",
    "    dfcopy.personaje = dfcopy.personaje.str.replace(\"\\'\", \"\\\\'\")\n",
    "    execution_commands = []\n",
    "\n",
    "    for _, entry in dfcopy.iterrows():\n",
    "        \n",
    "        s1 = f\"match (t {{{colnames[0]}:'{entry.titulo}'}}) \"\n",
    "        s2 = f\"match (p:{entry.rol} {{{colnames[1]}:'{entry.persona}'}}) \"\n",
    "        s3 = f\"create (p)-[te:{label}]->(t)\"\n",
    "        \n",
    "        create_statement = s1 + s2 + s3\n",
    "        \n",
    "        if type(entry.personaje) == str:\n",
    "            s4 = f\" set te.{colnames[2]} = '{entry.personaje}'\"\n",
    "            create_statement += s4\n",
    "            \n",
    "        execution_commands.append(create_statement)\n",
    "\n",
    "\n",
    "    def execute_transactions(execution_commands):\n",
    "        data_base_connection = GraphDatabase.driver(\n",
    "            uri = \"bolt://localhost:7687\", auth=(\"neo4j\", \"neo5j\"))\n",
    "        session = data_base_connection.session()    \n",
    "        for i in execution_commands:\n",
    "            session.run(i)\n",
    "\n",
    "            \n",
    "    #for elem in execution_commands[:5]:\n",
    "    #   print(elem)\n",
    "    execute_transactions(execution_commands)"
   ]
  },
  {
   "cell_type": "code",
   "execution_count": 202,
   "id": "ecaa8855-bacd-4558-ad1f-8359c0e28a6f",
   "metadata": {},
   "outputs": [
    {
     "data": {
      "text/plain": [
       "\"match (ttitulo {id_titulo:'_id_titulo_'}) match (p:rol {id_persona:'_id_persona_'}) create (p)-[te:trabaja_en]->(t)\""
      ]
     },
     "execution_count": 202,
     "metadata": {},
     "output_type": "execute_result"
    }
   ],
   "source": [
    "# Create statement for relationship TRABAJA without character name\n",
    "wo = \"\\\n",
    "match (t {id_titulo:'_id_titulo_'}) \\\n",
    "match (p:rol {id_persona:'_id_persona_'}) \\\n",
    "create (p)-[te:trabaja_en]->(t)\"\n",
    "# Create statement for relationship TRABAJA with character name\n",
    "w = wo + \" \\\n",
    "set te.nombre_personaje = '_nombre_personaje_'\""
   ]
  }
 ],
 "metadata": {
  "kernelspec": {
   "display_name": "Python 3 (ipykernel)",
   "language": "python",
   "name": "python3"
  },
  "language_info": {
   "codemirror_mode": {
    "name": "ipython",
    "version": 3
   },
   "file_extension": ".py",
   "mimetype": "text/x-python",
   "name": "python",
   "nbconvert_exporter": "python",
   "pygments_lexer": "ipython3",
   "version": "3.9.11"
  }
 },
 "nbformat": 4,
 "nbformat_minor": 5
}
